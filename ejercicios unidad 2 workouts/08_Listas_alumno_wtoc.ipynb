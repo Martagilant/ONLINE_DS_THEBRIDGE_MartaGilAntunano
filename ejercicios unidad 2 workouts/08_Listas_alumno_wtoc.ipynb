{
 "cells": [
  {
   "cell_type": "markdown",
   "metadata": {},
   "source": [
    "<img src = \"./img/TheBridge_logo_RGB_color.jpg\" width = 500>\n",
    "<img src = \"./img/python.jpg\" width = 500>"
   ]
  },
  {
   "cell_type": "markdown",
   "metadata": {},
   "source": [
    "# Python Basics I"
   ]
  },
  {
   "cell_type": "markdown",
   "metadata": {},
   "source": [
    "## Contenidos"
   ]
  },
  {
   "cell_type": "markdown",
   "metadata": {},
   "source": [
    "* [Listas](#Listas)\n",
    "\n",
    "* [Métodos en Listas](#Metodos-en-Listas)\n",
    "\n"
   ]
  },
  {
   "cell_type": "markdown",
   "metadata": {},
   "source": [
    "## Listas\n",
    "[al indice](#Contenidos)  \n",
    "\n",
    "Se trata de otro de los tipos de datos de Python más usados. Dentro de las colecciones, que veremos más adelante, la lista es la colección que normalmente se le da más uso. **Nos permiten almacenar conjuntos de variables u objetos**, y son elementos de lo más versátiles puesto que podemos almacenar objetos de distintos tipos, modificarlos, eliminarlos, meter listas dentro de listas... Sus dos caractrísticas principales son:\n",
    "* **Mutables**: una vez se ha creado la lista, se puede modificar\n",
    "* **Ordenada**: Los elementos tienen un cierto orden, lo que nos permite acceder al elemento que queramos teniendo en cuenta tal orden\n",
    "\n",
    "En cuanto a su sintaxis, cuando declaremos la lista simplemente hay que separar cada elemento con comas, y rodearlo todo con corchetes."
   ]
  },
  {
   "cell_type": "code",
   "execution_count": null,
   "metadata": {},
   "outputs": [],
   "source": [
    "# Lista de num\n",
    "numeros = [1, 3, 5, 6]\n",
    "print(numeros)\n",
    "print(type(numeros))"
   ]
  },
  {
   "cell_type": "code",
   "execution_count": null,
   "metadata": {},
   "outputs": [],
   "source": [
    "# lista de strings\n",
    "strings = [\"esto\",\"es\",\"una\",\"lista\"]\n",
    "print(strings)\n",
    "print(type(strings))\n",
    "# lista de booleanos\n",
    "booleanos = [True, False, not False, True or False, False and False]\n",
    "print(booleanos)\n",
    "print(type(booleanos))"
   ]
  },
  {
   "cell_type": "code",
   "execution_count": null,
   "metadata": {},
   "outputs": [],
   "source": [
    "# lista de tipos mezclados \n",
    "mix = [\"esto es\", 12, -34.5,True, False, \"lista\"]\n",
    "print(mix)\n",
    "print(type(mix))\n",
    "\n",
    "# lista dentro de listas \n",
    "listas = [\"Gola\", \"12\", 23, [23, True, False]]\n",
    "print(listas)\n",
    "print(type(listas))"
   ]
  },
  {
   "cell_type": "code",
   "execution_count": null,
   "metadata": {},
   "outputs": [],
   "source": [
    "len(listas)\n",
    "len(mix)"
   ]
  },
  {
   "cell_type": "code",
   "execution_count": null,
   "metadata": {},
   "outputs": [],
   "source": [
    "concatenacion = mix + listas\n",
    "print(concatebaion)\n",
    "print(type(concatenacion))"
   ]
  },
  {
   "cell_type": "code",
   "execution_count": null,
   "metadata": {},
   "outputs": [],
   "source": [
    "concatenacion2 = listas + mix #no son commutativas\n",
    "print(concatenacion2)\n",
    "print(type(concatenacion2))"
   ]
  },
  {
   "cell_type": "markdown",
   "metadata": {},
   "source": [
    "**NOTA**: ¿Ves por qué los decimales en Python siempre van con puntos y no con comas? Con las colecciones el intérprete de Python se volvería loco.\n",
    "\n",
    "Podemos ver tambien el tipo de la lista"
   ]
  },
  {
   "cell_type": "code",
   "execution_count": null,
   "metadata": {},
   "outputs": [],
   "source": [
    "type(mix)\n"
   ]
  },
  {
   "cell_type": "markdown",
   "metadata": {},
   "source": [
    "Calcular la longitud de la misma mediante el método *built-in* ya visto: `len()`"
   ]
  },
  {
   "cell_type": "code",
   "execution_count": null,
   "metadata": {},
   "outputs": [],
   "source": [
    "len(mix)"
   ]
  },
  {
   "cell_type": "markdown",
   "metadata": {},
   "source": [
    "Accedemos a los elemenos de la lista mediante corchetes `[]`\n",
    "\n",
    "**Importante**. El primer elemento es el 0"
   ]
  },
  {
   "cell_type": "code",
   "execution_count": null,
   "metadata": {},
   "outputs": [],
   "source": [
    "lista_ejemplo = [\"esto\", 2,3, \"PATATa\"]\n",
    "print(lista_ejemplo[0])\n",
    "print(lista_ejemplo[-1])\n",
    "print(lista_ejemplo[3])\n",
    "print(lista_ejemplo[134])# no va a existir"
   ]
  },
  {
   "cell_type": "markdown",
   "metadata": {},
   "source": [
    "### Metodos en Listas  \n",
    "[al índice](#Contenidos)  \n",
    "\n",
    "Para el tipo de objeto lista, también hay una serie de métodos catacterísticos que nos permiten operar con ellas: añadir valores, quitarlos, indexado, filtrado, etc... En [este enlace](https://www.w3schools.com/python/python_ref_list.asp) puedes encontrar todos los métodos que podrás usar con listas."
   ]
  },
  {
   "cell_type": "code",
   "execution_count": null,
   "metadata": {},
   "outputs": [],
   "source": [
    "asignaturas = [\"Fisica\", \"Quimica\", \"Matematicas\", \"LITERATURA\"]\n",
    "#añadir un el a una lista\n",
    "asignaturas.append(\"Filosofia\")\n",
    "\n",
    "#añadir en una poscion det\n",
    "asignaturas.insert(1,\"Gimnasia\")\n",
    "\n",
    "#quitar el.\n",
    "#asignaturas.clear()\n",
    "#print(asignaturas)\n",
    "\n",
    "#quitar un elemnto a partir de su indice o posicion\n",
    "asignaturas.pop(1)\n",
    "print(asignaturas)\n",
    "\n",
    "#quitar un elemnto por su valor\n",
    "asignaturas.remove(\"Filosofia\")\n",
    "print(asignaturas)\n",
    "\n",
    "asignaturas.remove(cine) # no existe cine in list\n",
    " asignaturas.pop(123) # no existe posicion 123 in list  \n",
    "\n",
    "#ordernar la lista alfabeticamente\n",
    "asignaturas.sort()\n",
    "print(asignaturas)"
   ]
  },
  {
   "cell_type": "code",
   "execution_count": null,
   "metadata": {},
   "outputs": [],
   "source": []
  },
  {
   "cell_type": "code",
   "execution_count": null,
   "metadata": {},
   "outputs": [],
   "source": []
  }
 ],
 "metadata": {
  "kernelspec": {
   "display_name": "Python 3 (ipykernel)",
   "language": "python",
   "name": "python3"
  },
  "language_info": {
   "codemirror_mode": {
    "name": "ipython",
    "version": 3
   },
   "file_extension": ".py",
   "mimetype": "text/x-python",
   "name": "python",
   "nbconvert_exporter": "python",
   "pygments_lexer": "ipython3",
   "version": "3.8.3"
  }
 },
 "nbformat": 4,
 "nbformat_minor": 4
}
