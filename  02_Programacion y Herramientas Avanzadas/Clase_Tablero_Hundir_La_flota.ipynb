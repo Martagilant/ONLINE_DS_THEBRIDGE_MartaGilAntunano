{
 "cells": [
  {
   "cell_type": "code",
   "execution_count": 2,
   "metadata": {},
   "outputs": [
    {
     "name": "stdout",
     "output_type": "stream",
     "text": [
      "Requirement already satisfied: numpy in /Library/Frameworks/Python.framework/Versions/3.13/lib/python3.13/site-packages (2.2.3)\n",
      "\n",
      "\u001b[1m[\u001b[0m\u001b[34;49mnotice\u001b[0m\u001b[1;39;49m]\u001b[0m\u001b[39;49m A new release of pip is available: \u001b[0m\u001b[31;49m24.3.1\u001b[0m\u001b[39;49m -> \u001b[0m\u001b[32;49m25.0.1\u001b[0m\n",
      "\u001b[1m[\u001b[0m\u001b[34;49mnotice\u001b[0m\u001b[1;39;49m]\u001b[0m\u001b[39;49m To update, run: \u001b[0m\u001b[32;49mpip3.13 install --upgrade pip\u001b[0m\n",
      "Note: you may need to restart the kernel to use updated packages.\n"
     ]
    }
   ],
   "source": [
    "pip install numpy"
   ]
  },
  {
   "cell_type": "code",
   "execution_count": 1,
   "metadata": {},
   "outputs": [],
   "source": [
    "import random\n",
    "import numpy as np"
   ]
  },
  {
   "cell_type": "code",
   "execution_count": null,
   "metadata": {},
   "outputs": [],
   "source": []
  },
  {
   "cell_type": "code",
   "execution_count": null,
   "metadata": {},
   "outputs": [],
   "source": [
    "barcos = {\n",
    "    \"Carrier\": 2\n",
    "    \"Battleship\":4\n",
    "    \"Cruiser\": 1\n",
    "    \"Submarine\": 2\n",
    "    \"Destroyer\": 3\n",
    "}"
   ]
  },
  {
   "cell_type": "code",
   "execution_count": null,
   "metadata": {},
   "outputs": [],
   "source": [
    "\n",
    "class Tablero:\n",
    "\n",
    "    def __init__(self, name, tamano, jugador_id, barcos, impactos):\n",
    "        self.tamano = tamano\n",
    "        self.name = name\n",
    "        self.tablero = self.CrearVacio(tamano)\n",
    "        self.jugador_id = jugador_id\n",
    "        self.barcos = barcos # Diccionario con barcos y sus esloras\n",
    "        self.impactos = impactos #tablero para los impactos\n",
    "        \n",
    "    def CrearVacio(self, tamano):\n",
    "        tablero = np.full((tamano,tamano),\" \")\n",
    "        print(tablero)\n",
    "        return tablero\n",
    "    \n",
    "         \n",
    "    \n",
    "    def ubicador_barcos(self, eslora,ubicacion, orientacion):\n",
    "        \n",
    "\n",
    "        for i in range(eslora):\n",
    "          \n",
    "            if ubicacion[0] <0 or ubicacion[0] > self.tamano or ubicacion[1] <0 or ubicacion[1] > self.tamano:\n",
    "                print(\"No se puede poner un barco en esa posición\")\n",
    "                break\n",
    "            if self.tablero[ubicacion[0],ubicacion[1]] == \"O\":\n",
    "                print(\"Ya hay un barco en esa posición\")\n",
    "                break\n",
    "        \n",
    "            self.tablero[ubicacion[0],ubicacion[1]] = \"O\"\n",
    "        \n",
    "            if orientacion == \"n\":\n",
    "                ubicacion[0] = ubicacion[0] - 1\n",
    "            elif orientacion == \"s\":\n",
    "                ubicacion[0] = ubicacion[0] + 1\n",
    "            elif orientacion == \"e\":\n",
    "                ubicacion[1] = ubicacion[1] + 1\n",
    "            elif orientacion == \"o\":\n",
    "                ubicacion[1] = ubicacion[1] - 1\n",
    "            else:\n",
    "                print(\"Orientación no válida, solo n,s,e,o\")\n",
    "                break\n",
    "        print(self.tablero)\n",
    "        return self.tablero\n",
    "    \n",
    "    def disparo(self, ubicacion):\n",
    "        if ubicacion[0] <0 or ubicacion[0] > self.tamano or ubicacion[1] <0 or ubicacion[1] > self.tamano:\n",
    "            print(\"No se puede disparar a esa posición\")\n",
    "            \n",
    "        elif self.tablero[ubicacion[0],ubicacion[1]] == \"O\":\n",
    "            print(\"Tocado\")\n",
    "            self.tablero[ubicacion[0],ubicacion[1]] = \"X\"\n",
    "        elif self.tablero[ubicacion[0],ubicacion[1]] == \" \":\n",
    "            self.tablero[ubicacion[0],ubicacion[1]] = \"-\"\n",
    "            print(\"Agua\")\n",
    "        else:\n",
    "            print(\"Ya habías disparado ahí\")\n",
    "        print(self.tablero)\n",
    "        return self.tablero\n",
    "    \n",
    "    def BarcoAleatorio(self, eslora):\n",
    "        \n",
    "        orientacion = random.choice([\"n\",\"s\",\"e\",\"o\"])\n",
    "        ubicacion = [random.randint(0,self.tamano),random.randint(0,self.tamano)]\n",
    "        self.ubicador_barcos(eslora,ubicacion,orientacion)\n",
    "        return self.tablero\n",
    "\n",
    "                \n",
    "                "
   ]
  },
  {
   "cell_type": "code",
   "execution_count": 3,
   "metadata": {},
   "outputs": [
    {
     "name": "stdout",
     "output_type": "stream",
     "text": [
      "[[' ' ' ' ' ' ' ' ' ' ' ' ' ' ' ' ' ' ' ']\n",
      " [' ' ' ' ' ' ' ' ' ' ' ' ' ' ' ' ' ' ' ']\n",
      " [' ' ' ' ' ' ' ' ' ' ' ' ' ' ' ' ' ' ' ']\n",
      " [' ' ' ' ' ' ' ' ' ' ' ' ' ' ' ' ' ' ' ']\n",
      " [' ' ' ' ' ' ' ' ' ' ' ' ' ' ' ' ' ' ' ']\n",
      " [' ' ' ' ' ' ' ' ' ' ' ' ' ' ' ' ' ' ' ']\n",
      " [' ' ' ' ' ' ' ' ' ' ' ' ' ' ' ' ' ' ' ']\n",
      " [' ' ' ' ' ' ' ' ' ' ' ' ' ' ' ' ' ' ' ']\n",
      " [' ' ' ' ' ' ' ' ' ' ' ' ' ' ' ' ' ' ' ']\n",
      " [' ' ' ' ' ' ' ' ' ' ' ' ' ' ' ' ' ' ' ']]\n",
      "[[' ' ' ' ' ' ' ' ' ' ' ' ' ' ' ' ' ' ' ']\n",
      " [' ' ' ' ' ' ' ' ' ' ' ' ' ' ' ' ' ' ' ']\n",
      " [' ' ' ' ' ' ' ' ' ' ' ' ' ' ' ' ' ' ' ']\n",
      " [' ' ' ' ' ' ' ' ' ' ' ' ' ' ' ' ' ' ' ']\n",
      " [' ' ' ' ' ' ' ' ' ' ' ' ' ' ' ' ' ' ' ']\n",
      " [' ' ' ' ' ' ' ' ' ' ' ' ' ' ' ' ' ' ' ']\n",
      " [' ' ' ' ' ' ' ' ' ' ' ' ' ' ' ' ' ' ' ']\n",
      " [' ' ' ' ' ' ' ' ' ' ' ' ' ' ' ' ' ' ' ']\n",
      " [' ' ' ' ' ' ' ' ' ' ' ' ' ' ' ' ' ' ' ']\n",
      " [' ' ' ' ' ' ' ' ' ' ' ' ' ' ' ' ' ' ' ']]\n"
     ]
    },
    {
     "data": {
      "text/plain": [
       "array([[' ', ' ', ' ', ' ', ' ', ' ', ' ', ' ', ' ', ' '],\n",
       "       [' ', ' ', ' ', ' ', ' ', ' ', ' ', ' ', ' ', ' '],\n",
       "       [' ', ' ', ' ', ' ', ' ', ' ', ' ', ' ', ' ', ' '],\n",
       "       [' ', ' ', ' ', ' ', ' ', ' ', ' ', ' ', ' ', ' '],\n",
       "       [' ', ' ', ' ', ' ', ' ', ' ', ' ', ' ', ' ', ' '],\n",
       "       [' ', ' ', ' ', ' ', ' ', ' ', ' ', ' ', ' ', ' '],\n",
       "       [' ', ' ', ' ', ' ', ' ', ' ', ' ', ' ', ' ', ' '],\n",
       "       [' ', ' ', ' ', ' ', ' ', ' ', ' ', ' ', ' ', ' '],\n",
       "       [' ', ' ', ' ', ' ', ' ', ' ', ' ', ' ', ' ', ' '],\n",
       "       [' ', ' ', ' ', ' ', ' ', ' ', ' ', ' ', ' ', ' ']], dtype='<U1')"
      ]
     },
     "execution_count": 3,
     "metadata": {},
     "output_type": "execute_result"
    }
   ],
   "source": [
    "tablero1= Tablero(\"tablero1\",10)\n",
    "tablero1.CrearVacio(10)"
   ]
  }
 ],
 "metadata": {
  "kernelspec": {
   "display_name": "Python 3",
   "language": "python",
   "name": "python3"
  },
  "language_info": {
   "codemirror_mode": {
    "name": "ipython",
    "version": 3
   },
   "file_extension": ".py",
   "mimetype": "text/x-python",
   "name": "python",
   "nbconvert_exporter": "python",
   "pygments_lexer": "ipython3",
   "version": "3.13.2"
  }
 },
 "nbformat": 4,
 "nbformat_minor": 2
}
