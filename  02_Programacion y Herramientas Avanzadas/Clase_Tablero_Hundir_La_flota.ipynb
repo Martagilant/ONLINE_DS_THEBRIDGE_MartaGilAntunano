{
 "cells": [
  {
   "cell_type": "code",
   "execution_count": 2,
   "metadata": {},
   "outputs": [
    {
     "name": "stdout",
     "output_type": "stream",
     "text": [
      "Requirement already satisfied: numpy in /Library/Frameworks/Python.framework/Versions/3.13/lib/python3.13/site-packages (2.2.3)\n",
      "\n",
      "\u001b[1m[\u001b[0m\u001b[34;49mnotice\u001b[0m\u001b[1;39;49m]\u001b[0m\u001b[39;49m A new release of pip is available: \u001b[0m\u001b[31;49m24.3.1\u001b[0m\u001b[39;49m -> \u001b[0m\u001b[32;49m25.0.1\u001b[0m\n",
      "\u001b[1m[\u001b[0m\u001b[34;49mnotice\u001b[0m\u001b[1;39;49m]\u001b[0m\u001b[39;49m To update, run: \u001b[0m\u001b[32;49mpip3.13 install --upgrade pip\u001b[0m\n",
      "Note: you may need to restart the kernel to use updated packages.\n"
     ]
    }
   ],
   "source": [
    "pip install numpy"
   ]
  },
  {
   "cell_type": "code",
   "execution_count": 1,
   "metadata": {},
   "outputs": [],
   "source": [
    "import random\n",
    "import numpy as np"
   ]
  },
  {
   "cell_type": "code",
   "execution_count": null,
   "metadata": {},
   "outputs": [],
   "source": []
  },
  {
   "cell_type": "code",
   "execution_count": null,
   "metadata": {},
   "outputs": [],
   "source": [
    "barcos = {\n",
    "    \"Carrier\": 2\n",
    "    \"Battleship\":4\n",
    "    \"Cruiser\": 1\n",
    "    \"Submarine\": 2\n",
    "    \"Destroyer\": 3\n",
    "}\n",
    "#tiewen que ser igual a 20"
   ]
  },
  {
   "cell_type": "code",
   "execution_count": 5,
   "metadata": {},
   "outputs": [],
   "source": [
    "\n",
    "class Tablero:\n",
    "\n",
    "    def __init__(self, name, tamano, jugador_id, barcos, impactos):\n",
    "        self.tamano = tamano\n",
    "        self.name = name\n",
    "        self.tablero = self.CrearVacio(tamano)\n",
    "        self.jugador_id = jugador_id\n",
    "        self.barcos = barcos # Diccionario con barcos y sus esloras\n",
    "        self.impactos = impactos #tablero para los impactos\n",
    "        \n",
    "    def CrearVacio(self, tamano):\n",
    "        tablero = np.full((tamano,tamano),\" \")\n",
    "        print(tablero)\n",
    "        return tablero\n",
    "    \n",
    "         \n",
    "    \n",
    "    def ubicador_barcos(self, eslora,ubicacion, orientacion):\n",
    "        \n",
    "\n",
    "        for i in range(eslora):\n",
    "          \n",
    "            if ubicacion[0] <0 or ubicacion[0] > self.tamano or ubicacion[1] <0 or ubicacion[1] > self.tamano:\n",
    "                print(\"No se puede poner un barco en esa posición\")\n",
    "                break\n",
    "            if self.tablero[ubicacion[0],ubicacion[1]] == \"O\":\n",
    "                print(\"Ya hay un barco en esa posición\")\n",
    "                break\n",
    "        \n",
    "            self.tablero[ubicacion[0],ubicacion[1]] = \"O\"\n",
    "        \n",
    "            if orientacion == \"n\":\n",
    "                ubicacion[0] = ubicacion[0] - 1\n",
    "            elif orientacion == \"s\":\n",
    "                ubicacion[0] = ubicacion[0] + 1\n",
    "            elif orientacion == \"e\":\n",
    "                ubicacion[1] = ubicacion[1] + 1\n",
    "            elif orientacion == \"o\":\n",
    "                ubicacion[1] = ubicacion[1] - 1\n",
    "            else:\n",
    "                print(\"Orientación no válida, solo n,s,e,o\")\n",
    "                break\n",
    "        print(self.tablero)\n",
    "        return self.tablero\n",
    "    \n",
    "    def disparo(self, ubicacion):\n",
    "        if ubicacion[0] <0 or ubicacion[0] > self.tamano or ubicacion[1] <0 or ubicacion[1] > self.tamano:\n",
    "            print(\"No se puede disparar a esa posición\")\n",
    "            \n",
    "        elif self.tablero[ubicacion[0],ubicacion[1]] == \"O\":\n",
    "            print(\"Tocado\")\n",
    "            self.tablero[ubicacion[0],ubicacion[1]] = \"X\"\n",
    "        elif self.tablero[ubicacion[0],ubicacion[1]] == \" \":\n",
    "            self.tablero[ubicacion[0],ubicacion[1]] = \"-\"\n",
    "            print(\"Agua\")\n",
    "        else:\n",
    "            print(\"Ya habías disparado ahí\")\n",
    "        print(self.tablero)\n",
    "        return self.tablero\n",
    "    \n",
    "    def BarcoAleatorio(self, eslora):\n",
    "        \n",
    "        orientacion = random.choice([\"n\",\"s\",\"e\",\"o\"])\n",
    "        ubicacion = [random.randint(0,self.tamano),random.randint(0,self.tamano)]\n",
    "        self.ubicador_barcos(eslora,ubicacion,orientacion)\n",
    "        return self.tablero\n",
    "    \n",
    "    def colocar_BarcoManual(self):\n",
    "        \"\"\"Permite al jugador colocar los barcos manualmente mediante input.\"\"\"\n",
    "        for eslora, cantidad in self.barcos.items():\n",
    "            for _ in range(cantidad):\n",
    "                colocado = False\n",
    "                while not colocado:\n",
    "                    try:\n",
    "                        print(f\"Colocando barco de {eslora} casillas.\")\n",
    "                        fila = int(input(\"Introduce la fila (0-9): \"))\n",
    "                        columna = int(input(\"Introduce la columna (0-9): \"))\n",
    "                        orientacion = input(\"Orientación (n para norte, s para sur, e para este, o para oeste): \").lower()\n",
    "                        \n",
    "                        if orientacion not in [\"n\", \"s\", \"e\", \"o\"]:\n",
    "                            print(\"Orientación no válida. Usa n, s, e, o.\")\n",
    "                            continue\n",
    "                        \n",
    "                        if self.ubicador_barcos(eslora, [fila, columna], orientacion):\n",
    "                            colocado = True\n",
    "                        else:\n",
    "                            print(\"Posición inválida. Inténtalo de nuevo.\")\n",
    "                    except ValueError:\n",
    "                        print(\"Entrada inválida. Asegúrate de introducir números enteros.\")\n",
    "  \n",
    "                \n",
    "                "
   ]
  },
  {
   "cell_type": "code",
   "execution_count": 2,
   "metadata": {},
   "outputs": [],
   "source": [
    "\n",
    "    \n",
    "      def colocar_BarcoManual(self):\n",
    "        \"\"\"Permite al jugador colocar los barcos manualmente mediante input.\"\"\"\n",
    "        for eslora, cantidad in self.barcos.items():\n",
    "            for _ in range(cantidad):\n",
    "                colocado = False\n",
    "                while not colocado:\n",
    "                    try:\n",
    "                        print(f\"Colocando barco de {eslora} casillas.\")\n",
    "                        fila = int(input(\"Introduce la fila (0-9): \"))\n",
    "                        columna = int(input(\"Introduce la columna (0-9): \"))\n",
    "                        orientacion = input(\"Orientación (n para norte, s para sur, e para este, o para oeste): \").lower()\n",
    "                        \n",
    "                        if orientacion not in [\"n\", \"s\", \"e\", \"o\"]:\n",
    "                            print(\"Orientación no válida. Usa n, s, e, o.\")\n",
    "                            continue\n",
    "                        \n",
    "                        if self.ubicador_barcos(eslora, [fila, columna], orientacion):\n",
    "                            colocado = True\n",
    "                        else:\n",
    "                            print(\"Posición inválida. Inténtalo de nuevo.\")\n",
    "                    except ValueError:\n",
    "                        print(\"Entrada inválida. Asegúrate de introducir números enteros.\")"
   ]
  },
  {
   "cell_type": "code",
   "execution_count": 6,
   "metadata": {},
   "outputs": [
    {
     "ename": "SyntaxError",
     "evalue": "invalid syntax. Perhaps you forgot a comma? (2127869885.py, line 3)",
     "output_type": "error",
     "traceback": [
      "  \u001b[36mCell\u001b[39m\u001b[36m \u001b[39m\u001b[32mIn[6]\u001b[39m\u001b[32m, line 3\u001b[39m\n\u001b[31m    \u001b[39m\u001b[31minput(coordenadas, eslora, posicion inical y orientacion) (0,9) #restarle 1\u001b[39m\n                               ^\n\u001b[31mSyntaxError\u001b[39m\u001b[31m:\u001b[39m invalid syntax. Perhaps you forgot a comma?\n"
     ]
    }
   ],
   "source": [
    "  \n",
    "    def BarcoManual(self, eslora):\n",
    "        print(input( \"Que coordenadas quieres colocar a barco?\"))\n",
    "        input(coordenadas, eslora, posicion inical y orientacion) (0,9) #restarle 1 \n",
    "        montar barcos ni slairse del tablero\n",
    "\n",
    "        pass\n"
   ]
  },
  {
   "cell_type": "code",
   "execution_count": 3,
   "metadata": {},
   "outputs": [
    {
     "name": "stdout",
     "output_type": "stream",
     "text": [
      "[[' ' ' ' ' ' ' ' ' ' ' ' ' ' ' ' ' ' ' ']\n",
      " [' ' ' ' ' ' ' ' ' ' ' ' ' ' ' ' ' ' ' ']\n",
      " [' ' ' ' ' ' ' ' ' ' ' ' ' ' ' ' ' ' ' ']\n",
      " [' ' ' ' ' ' ' ' ' ' ' ' ' ' ' ' ' ' ' ']\n",
      " [' ' ' ' ' ' ' ' ' ' ' ' ' ' ' ' ' ' ' ']\n",
      " [' ' ' ' ' ' ' ' ' ' ' ' ' ' ' ' ' ' ' ']\n",
      " [' ' ' ' ' ' ' ' ' ' ' ' ' ' ' ' ' ' ' ']\n",
      " [' ' ' ' ' ' ' ' ' ' ' ' ' ' ' ' ' ' ' ']\n",
      " [' ' ' ' ' ' ' ' ' ' ' ' ' ' ' ' ' ' ' ']\n",
      " [' ' ' ' ' ' ' ' ' ' ' ' ' ' ' ' ' ' ' ']]\n",
      "[[' ' ' ' ' ' ' ' ' ' ' ' ' ' ' ' ' ' ' ']\n",
      " [' ' ' ' ' ' ' ' ' ' ' ' ' ' ' ' ' ' ' ']\n",
      " [' ' ' ' ' ' ' ' ' ' ' ' ' ' ' ' ' ' ' ']\n",
      " [' ' ' ' ' ' ' ' ' ' ' ' ' ' ' ' ' ' ' ']\n",
      " [' ' ' ' ' ' ' ' ' ' ' ' ' ' ' ' ' ' ' ']\n",
      " [' ' ' ' ' ' ' ' ' ' ' ' ' ' ' ' ' ' ' ']\n",
      " [' ' ' ' ' ' ' ' ' ' ' ' ' ' ' ' ' ' ' ']\n",
      " [' ' ' ' ' ' ' ' ' ' ' ' ' ' ' ' ' ' ' ']\n",
      " [' ' ' ' ' ' ' ' ' ' ' ' ' ' ' ' ' ' ' ']\n",
      " [' ' ' ' ' ' ' ' ' ' ' ' ' ' ' ' ' ' ' ']]\n"
     ]
    },
    {
     "data": {
      "text/plain": [
       "array([[' ', ' ', ' ', ' ', ' ', ' ', ' ', ' ', ' ', ' '],\n",
       "       [' ', ' ', ' ', ' ', ' ', ' ', ' ', ' ', ' ', ' '],\n",
       "       [' ', ' ', ' ', ' ', ' ', ' ', ' ', ' ', ' ', ' '],\n",
       "       [' ', ' ', ' ', ' ', ' ', ' ', ' ', ' ', ' ', ' '],\n",
       "       [' ', ' ', ' ', ' ', ' ', ' ', ' ', ' ', ' ', ' '],\n",
       "       [' ', ' ', ' ', ' ', ' ', ' ', ' ', ' ', ' ', ' '],\n",
       "       [' ', ' ', ' ', ' ', ' ', ' ', ' ', ' ', ' ', ' '],\n",
       "       [' ', ' ', ' ', ' ', ' ', ' ', ' ', ' ', ' ', ' '],\n",
       "       [' ', ' ', ' ', ' ', ' ', ' ', ' ', ' ', ' ', ' '],\n",
       "       [' ', ' ', ' ', ' ', ' ', ' ', ' ', ' ', ' ', ' ']], dtype='<U1')"
      ]
     },
     "execution_count": 3,
     "metadata": {},
     "output_type": "execute_result"
    }
   ],
   "source": [
    "tablero1= Tablero(\"tablero1\",10)\n",
    "tablero1.CrearVacio(10)"
   ]
  }
 ],
 "metadata": {
  "kernelspec": {
   "display_name": "Python 3",
   "language": "python",
   "name": "python3"
  },
  "language_info": {
   "codemirror_mode": {
    "name": "ipython",
    "version": 3
   },
   "file_extension": ".py",
   "mimetype": "text/x-python",
   "name": "python",
   "nbconvert_exporter": "python",
   "pygments_lexer": "ipython3",
   "version": "3.13.2"
  }
 },
 "nbformat": 4,
 "nbformat_minor": 2
}
