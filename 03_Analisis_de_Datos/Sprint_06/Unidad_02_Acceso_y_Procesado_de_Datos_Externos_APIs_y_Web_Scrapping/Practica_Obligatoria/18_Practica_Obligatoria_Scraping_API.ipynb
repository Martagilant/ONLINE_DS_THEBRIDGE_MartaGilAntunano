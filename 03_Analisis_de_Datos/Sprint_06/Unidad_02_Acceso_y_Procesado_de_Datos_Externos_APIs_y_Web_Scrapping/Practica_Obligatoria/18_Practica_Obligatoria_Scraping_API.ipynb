{
  "cells": [
    {
      "cell_type": "markdown",
      "metadata": {
        "colab_type": "text",
        "id": "view-in-github"
      },
      "source": [
        "<a href=\"https://colab.research.google.com/github/Martagilant/ONLINE_DS_THEBRIDGE_MartaGilAntunano/blob/main/18_Practica_Obligatoria_Scraping_API.ipynb\" target=\"_parent\"><img src=\"https://colab.research.google.com/assets/colab-badge.svg\" alt=\"Open In Colab\"/></a>"
      ]
    },
    {
      "cell_type": "markdown",
      "metadata": {
        "id": "iqbyXZm6CRKc"
      },
      "source": []
    },
    {
      "cell_type": "markdown",
      "metadata": {
        "id": "nU7MeKWxCRKd"
      },
      "source": [
        "## PRACTICA OBLIGATORIA: SQL"
      ]
    },
    {
      "cell_type": "markdown",
      "metadata": {
        "id": "I4bXeTX9CRKd"
      },
      "source": [
        "* La práctica obligatoria de esta unidad consiste en extraer datos de películas de dos fuentes diferentes y cruzarlos, para una fuente tiraremos de Scraping y para la otra de API, y luego practicarás con pandas un poco. Descarga este notebook en tu ordenador y trabaja en local. Ten en cuenta que tendrás que descar los directorios de imágenes y datos adicionales, si los hubiera.\n",
        "* Recuerda que debes subirla a tu repositorio personal antes de la sesión en vivo para que puntúe adecuadamente.  \n",
        "* Recuerda también que no es necesario que esté perfecta, sólo es necesario que se vea el esfuerzo.\n",
        "* Esta práctica se resolverá en la sesión en vivo correspondiente y la solución se publicará en el repo del curso."
      ]
    },
    {
      "cell_type": "markdown",
      "metadata": {
        "id": "TvVhm4snCRKe"
      },
      "source": [
        "## Objetivo\n",
        "\n",
        "El objetivo final es tener un `DataFrame` con una serie de películas de 2023, sus datos más destacados (titulo, año de lanzamiento, director, guionistas, actores, género(s), coste de producción *budget* y recaudación a nivel USA y a nivel mundial). Para ello tendrás que acceder a dos fuentes de información y unir los datos, además cada fuente con un método diferente. Al final tendrás que contestar a unas preguntas sencillas.\n"
      ]
    },
    {
      "cell_type": "markdown",
      "metadata": {
        "id": "K7dWqWw8CRKe"
      },
      "source": [
        "## #0\n",
        "\n",
        "Como siempre, haz aquí todos los imports que necesites:"
      ]
    },
    {
      "cell_type": "code",
      "execution_count": 1,
      "metadata": {
        "id": "1Ja8598fCRKe"
      },
      "outputs": [],
      "source": [
        "import pandas as pd\n",
        "import requests\n",
        "import certifi\n",
        "import ssl\n"
      ]
    },
    {
      "cell_type": "markdown",
      "metadata": {
        "id": "YTDayEFBCRKe"
      },
      "source": [
        "## #1 API: The Movie Database (TMDb)"
      ]
    },
    {
      "cell_type": "markdown",
      "metadata": {
        "id": "sd-GD6hhCRKe"
      },
      "source": [
        "Cambiamos el orden temático de la unidad y empezamos por obtener los datos de las películas antes de obtener sus datos de ingresos porque tiene más sentido, ya que mandan las películas.\n",
        "\n",
        "Vamos a acceder a TMDb cuyos datos básicos te dejo aquí (pero recuerda que es la última vez, a partir de ahora tendrás que buscar la info de las APIs por tu cuenta)"
      ]
    },
    {
      "cell_type": "markdown",
      "metadata": {
        "id": "v_V9gSWzCRKe"
      },
      "source": [
        "\n",
        "### API de The Movie Database (TMDb)\n",
        "\n",
        "- **URL Base**: `https://api.themoviedb.org/3`\n",
        "\n",
        "\n",
        "#### Endpoints Principales:\n",
        "\n",
        "1. **Obtener Detalles de una Película**:\n",
        "   - **Endpoint**: `/movie/{movie_id}`\n",
        "   - **Método**: GET\n",
        "   - **Uso**: Obtiene detalles específicos de una película utilizando su ID.\n",
        "   - **Ejemplo**: `https://api.themoviedb.org/3/movie/550?api_key=tu_api_key`\n",
        "\n",
        "\n",
        "2. **Buscar Películas**:\n",
        "   - **Endpoint**: `/search/movie`\n",
        "   - **Método**: GET\n",
        "   - **Uso**: Busca películas por título.\n",
        "   - **Ejemplo**: `https://api.themoviedb.org/3/search/movie?query=Inception&api_key=tu_api_key`\n",
        "\n",
        "3. **Buscar películas por diferentes criterios**:\n",
        "   - **Endpoint**: `/discover/movie`\n",
        "   - **Método**: GET\n",
        "   - **Uso**: Obtiene información de las películas por criterios, tiene más de 30 filtros y funciones de ordenación.\n",
        "   - **Ejemplo**: `https://api.themoviedb.org/3/person/500?api_key=tu_api_key`\n",
        "\n",
        "4. **Obtener Películas Populares**:\n",
        "   - **Endpoint**: `/movie/popular`\n",
        "   - **Método**: GET\n",
        "   - **Uso**: Devuelve una lista de películas populares.\n",
        "   - **Ejemplo**: `https://api.themoviedb.org/3/movie/popular?api_key=tu_api_key`\n",
        "\n",
        "Recuerda reemplazar `tu_api_key` con tu propia API key."
      ]
    },
    {
      "cell_type": "markdown",
      "metadata": {
        "id": "dgBx3n-ICRKe"
      },
      "source": [
        "### 1.1\n",
        "\n",
        "Investiga en la página de [documentación](https://developer.themoviedb.org/reference/discover-movie) detallada del endpoint de \"Discover\" e identifica los parámetros que tenemos que pasar a la API para obtener las 20 películas americanas y las 20 españolas de 2023 más populares.\n",
        "\n",
        "Nota: Las respuestas de esta API están paginadas, y cada página contiene 20 respuestas, si quisieramos más tendríamos que incluir el parámetro `page` con su número en peticiones diferentes, por eso para esta práctica lo vamos a limitar a 20 respuestas, para que no haya que jugar con el paginado)."
      ]
    },
    {
      "cell_type": "code",
      "execution_count": null,
      "metadata": {
        "id": "Z8SxQ69jCRKf"
      },
      "outputs": [],
      "source": [
        "#para peliculas 2023:\n",
        "primary_release_year=2023\n",
        "with_original_language=en/esp\n",
        "sort_by=popularity.desc\n",
        "page = 1"
      ]
    },
    {
      "cell_type": "markdown",
      "metadata": {
        "id": "oOYtVnw4CRKf"
      },
      "source": [
        "### 1.2"
      ]
    },
    {
      "cell_type": "markdown",
      "metadata": {
        "id": "SS1WSG0-CRKf"
      },
      "source": [
        "Para poder hacer la llamada a la API con endpoint \"Discover\" necesitamos pasarle una serie de parámetros como los anteriores y la API_Key. Hay dos formas de hacerlo, mediante la querystring en la url o mediante el argumento params de request. Como tenemos que hacer una consulta para las películas estadounidenses y otra para las españolas, vamos a utilizar los dos métodos.\n",
        "\n",
        "En este ejercicio se pide usar el método de incluir todos los parámetros en la url mediante la sintaxis ?\\<parametro>=\\<valor>&... para obtener las 20 películas norteamericanas más populares de 2023, según TMDb. Para ello crea una variable `url_usa` a partir de la siguiente guía:  \n",
        "\n",
        "url_usa = base_url + end_point + \"?\\<parametro1>=\\<valor1>&\\<parametros2>=\\<valor2>...\"  \n",
        "\n",
        "Donde tendrá que incluir los parámetros \"api_key\" con valor tu api_key para TMDb y el resto de parámetros que necesites con sus valores para obtener los datos pedidos (utiliza `year` para el año). Luego utiliza el metodo request adecuado y vuelca la salida en `respuesta_usa`\n",
        "\n",
        "Ojo el valor del nombre de Estados Unidos en este caso no es USA, pero casi.\n",
        "\n",
        "EXTRA: Hay una forma de que te devuelva los datos en español cuando corresponda, a ver si lo logras."
      ]
    },
    {
      "cell_type": "code",
      "execution_count": 10,
      "metadata": {
        "id": "8ul6xqVOCRKf"
      },
      "outputs": [],
      "source": [
        "api_key = \"a67f4ae851f17dface95243a7ab7d7e8\"\n",
        "base_url = \"https://api.themoviedb.org/3/\"\n",
        "end_point = \"discover/movie\"\n",
        "url_usa = (\n",
        "    f\"{base_url}{end_point}\"\n",
        "    f\"?api_key={api_key}\"\n",
        "    f\"&primary_release_year=2023\"\n",
        "    f\"&with_origin_country=US\"\n",
        "    f\"&sort_by=popularity.desc\"\n",
        "    f\"&page=1\")\n",
        "\n",
        "\n",
        "#Para español solo habria que cambiar el idioma = language=es-ES"
      ]
    },
    {
      "cell_type": "code",
      "execution_count": 11,
      "metadata": {
        "id": "jw8J_fabCRKf"
      },
      "outputs": [],
      "source": [
        "respuesta_usa = requests.get(url_usa)"
      ]
    },
    {
      "cell_type": "markdown",
      "metadata": {
        "id": "pXUkSyoxCRKf"
      },
      "source": [
        "### 1.3\n",
        "\n",
        "Escribe el código de respuesta y su explicación. Vuelca los datos de la respuesta en una variable `datos_usa` (es decir el resultado del metodo `json`). Muestra los campos del json de respuesta y decide cuál es el que vamos a usar para extrarer los datos. Muestra los valores para ese campo y luego asignalo a la variable `pelis_usa`."
      ]
    },
    {
      "cell_type": "code",
      "execution_count": 12,
      "metadata": {
        "colab": {
          "base_uri": "https://localhost:8080/"
        },
        "id": "uvbMnbfaO_tf",
        "outputId": "c7f8b8e2-3a49-4d38-f8ce-d172715756a9"
      },
      "outputs": [
        {
          "data": {
            "text/plain": [
              "200"
            ]
          },
          "execution_count": 12,
          "metadata": {},
          "output_type": "execute_result"
        }
      ],
      "source": [
        "respuesta_usa.status_code #si funciona y no me da error"
      ]
    },
    {
      "cell_type": "code",
      "execution_count": 22,
      "metadata": {
        "colab": {
          "base_uri": "https://localhost:8080/"
        },
        "id": "0Hn8WDWZCRKf",
        "outputId": "1a95b649-5048-45ef-bd9c-856fde466372"
      },
      "outputs": [
        {
          "name": "stdout",
          "output_type": "stream",
          "text": [
            "dict_keys(['page', 'results', 'total_pages', 'total_results'])\n"
          ]
        }
      ],
      "source": [
        "datos_usa = respuesta_usa.json()\n",
        "\n",
        "datos_usa\n",
        "print(datos_usa.keys())\n"
      ]
    },
    {
      "cell_type": "code",
      "execution_count": 25,
      "metadata": {
        "colab": {
          "base_uri": "https://localhost:8080/"
        },
        "id": "G6DS-SRpQmRU",
        "outputId": "731dcdf6-97ea-46f1-f13e-d2cbf9029672"
      },
      "outputs": [
        {
          "name": "stdout",
          "output_type": "stream",
          "text": [
            "\n",
            "Títulos de películas:\n",
            "Cosmic Chaos\n",
            "The Vigilante\n",
            "Fast X\n",
            "John Wick: Chapter 4\n",
            "Spider-Man: Across the Spider-Verse\n",
            "Oppenheimer\n",
            "Barbie\n",
            "The Super Mario Bros. Movie\n",
            "Migration\n",
            "Transformers: Rise of the Beasts\n",
            "Mission: Impossible - Dead Reckoning Part One\n",
            "Five Nights at Freddy's\n",
            "Elemental\n",
            "Poor Things\n",
            "Guardians of the Galaxy Vol. 3\n",
            "Anyone But You\n",
            "The Equalizer 3\n",
            "The Little Mermaid\n",
            "Napoleon\n",
            "Meg 2: The Trench\n"
          ]
        }
      ],
      "source": [
        "print(\"\\nTítulos de películas:\")\n",
        "for pelicula in datos_usa[\"results\"]:\n",
        "    print(pelicula[\"title\"])\n",
        "\n",
        "pelis_usa = datos_usa[\"results\"]"
      ]
    },
    {
      "cell_type": "markdown",
      "metadata": {
        "id": "EnnP3doxCRKf"
      },
      "source": [
        "### 1.3 Alt\n",
        "\n",
        "Si no tienes una API-Key o no has conseguido obtener los valores, lee el archivo \"./data/usa_movies.json\" de la forma conveniente y vuelca sus datos en una variable llamada `pelis_usa`"
      ]
    },
    {
      "cell_type": "code",
      "execution_count": null,
      "metadata": {
        "id": "RXnqO4hTQjnK"
      },
      "outputs": [],
      "source": []
    },
    {
      "cell_type": "code",
      "execution_count": null,
      "metadata": {
        "id": "1-JH3I4UQk5a"
      },
      "outputs": [],
      "source": []
    },
    {
      "cell_type": "code",
      "execution_count": null,
      "metadata": {
        "id": "Pu5I0s3zCRKf"
      },
      "outputs": [],
      "source": []
    },
    {
      "cell_type": "markdown",
      "metadata": {
        "id": "rOOq2A4RCRKg"
      },
      "source": [
        "### 1.4\n",
        "\n",
        "Convierte los resultados a un `DataFrame` aprovechando que es una lista de diccionarios con la misma estructura. Asigna lo a \"df_movies\". Muestra sus primeras filas y la info general."
      ]
    },
    {
      "cell_type": "code",
      "execution_count": 29,
      "metadata": {
        "colab": {
          "base_uri": "https://localhost:8080/",
          "height": 923
        },
        "id": "4fwqkY03CRKg",
        "outputId": "f62723c6-0386-4856-c734-f7eb77e5f0d3"
      },
      "outputs": [
        {
          "data": {
            "application/vnd.google.colaboratory.intrinsic+json": {
              "summary": "{\n  \"name\": \"df\",\n  \"rows\": 20,\n  \"fields\": [\n    {\n      \"column\": \"adult\",\n      \"properties\": {\n        \"dtype\": \"boolean\",\n        \"num_unique_values\": 1,\n        \"samples\": [\n          false\n        ],\n        \"semantic_type\": \"\",\n        \"description\": \"\"\n      }\n    },\n    {\n      \"column\": \"backdrop_path\",\n      \"properties\": {\n        \"dtype\": \"string\",\n        \"num_unique_values\": 20,\n        \"samples\": [\n          \"/m2mzlsJjE3UAqeUB5fLUkpWg4Iq.jpg\"\n        ],\n        \"semantic_type\": \"\",\n        \"description\": \"\"\n      }\n    },\n    {\n      \"column\": \"genre_ids\",\n      \"properties\": {\n        \"dtype\": \"object\",\n        \"semantic_type\": \"\",\n        \"description\": \"\"\n      }\n    },\n    {\n      \"column\": \"id\",\n      \"properties\": {\n        \"dtype\": \"number\",\n        \"std\": 257364,\n        \"min\": 346698,\n        \"max\": 1165067,\n        \"num_unique_values\": 20,\n        \"samples\": [\n          1165067\n        ],\n        \"semantic_type\": \"\",\n        \"description\": \"\"\n      }\n    },\n    {\n      \"column\": \"original_language\",\n      \"properties\": {\n        \"dtype\": \"category\",\n        \"num_unique_values\": 1,\n        \"samples\": [\n          \"en\"\n        ],\n        \"semantic_type\": \"\",\n        \"description\": \"\"\n      }\n    },\n    {\n      \"column\": \"original_title\",\n      \"properties\": {\n        \"dtype\": \"string\",\n        \"num_unique_values\": 20,\n        \"samples\": [\n          \"Cosmic Chaos\"\n        ],\n        \"semantic_type\": \"\",\n        \"description\": \"\"\n      }\n    },\n    {\n      \"column\": \"overview\",\n      \"properties\": {\n        \"dtype\": \"string\",\n        \"num_unique_values\": 20,\n        \"samples\": [\n          \"Battles in virtual reality, survival in a post-apocalyptic wasteland, a Soviet spaceship giving a distress signal - Fantastic stories created with advanced special effects and passion.\"\n        ],\n        \"semantic_type\": \"\",\n        \"description\": \"\"\n      }\n    },\n    {\n      \"column\": \"popularity\",\n      \"properties\": {\n        \"dtype\": \"number\",\n        \"std\": 54.028383935546465,\n        \"min\": 14.413,\n        \"max\": 260.8825,\n        \"num_unique_values\": 20,\n        \"samples\": [\n          260.8825\n        ],\n        \"semantic_type\": \"\",\n        \"description\": \"\"\n      }\n    },\n    {\n      \"column\": \"poster_path\",\n      \"properties\": {\n        \"dtype\": \"string\",\n        \"num_unique_values\": 20,\n        \"samples\": [\n          \"/mClzWv7gBqgXfjZXp49Enyoex1v.jpg\"\n        ],\n        \"semantic_type\": \"\",\n        \"description\": \"\"\n      }\n    },\n    {\n      \"column\": \"release_date\",\n      \"properties\": {\n        \"dtype\": \"object\",\n        \"num_unique_values\": 19,\n        \"samples\": [\n          \"2023-08-03\"\n        ],\n        \"semantic_type\": \"\",\n        \"description\": \"\"\n      }\n    },\n    {\n      \"column\": \"title\",\n      \"properties\": {\n        \"dtype\": \"string\",\n        \"num_unique_values\": 20,\n        \"samples\": [\n          \"Cosmic Chaos\"\n        ],\n        \"semantic_type\": \"\",\n        \"description\": \"\"\n      }\n    },\n    {\n      \"column\": \"video\",\n      \"properties\": {\n        \"dtype\": \"boolean\",\n        \"num_unique_values\": 1,\n        \"samples\": [\n          false\n        ],\n        \"semantic_type\": \"\",\n        \"description\": \"\"\n      }\n    },\n    {\n      \"column\": \"vote_average\",\n      \"properties\": {\n        \"dtype\": \"number\",\n        \"std\": 0.6349669925113806,\n        \"min\": 5.9,\n        \"max\": 8.345,\n        \"num_unique_values\": 20,\n        \"samples\": [\n          6.9\n        ],\n        \"semantic_type\": \"\",\n        \"description\": \"\"\n      }\n    },\n    {\n      \"column\": \"vote_count\",\n      \"properties\": {\n        \"dtype\": \"number\",\n        \"std\": 2945,\n        \"min\": 20,\n        \"max\": 10049,\n        \"num_unique_values\": 20,\n        \"samples\": [\n          27\n        ],\n        \"semantic_type\": \"\",\n        \"description\": \"\"\n      }\n    }\n  ]\n}",
              "type": "dataframe",
              "variable_name": "df"
            },
            "text/html": [
              "\n",
              "  <div id=\"df-44a4f449-fb86-4241-af34-361054cf4aa9\" class=\"colab-df-container\">\n",
              "    <div>\n",
              "<style scoped>\n",
              "    .dataframe tbody tr th:only-of-type {\n",
              "        vertical-align: middle;\n",
              "    }\n",
              "\n",
              "    .dataframe tbody tr th {\n",
              "        vertical-align: top;\n",
              "    }\n",
              "\n",
              "    .dataframe thead th {\n",
              "        text-align: right;\n",
              "    }\n",
              "</style>\n",
              "<table border=\"1\" class=\"dataframe\">\n",
              "  <thead>\n",
              "    <tr style=\"text-align: right;\">\n",
              "      <th></th>\n",
              "      <th>adult</th>\n",
              "      <th>backdrop_path</th>\n",
              "      <th>genre_ids</th>\n",
              "      <th>id</th>\n",
              "      <th>original_language</th>\n",
              "      <th>original_title</th>\n",
              "      <th>overview</th>\n",
              "      <th>popularity</th>\n",
              "      <th>poster_path</th>\n",
              "      <th>release_date</th>\n",
              "      <th>title</th>\n",
              "      <th>video</th>\n",
              "      <th>vote_average</th>\n",
              "      <th>vote_count</th>\n",
              "    </tr>\n",
              "  </thead>\n",
              "  <tbody>\n",
              "    <tr>\n",
              "      <th>0</th>\n",
              "      <td>False</td>\n",
              "      <td>/m2mzlsJjE3UAqeUB5fLUkpWg4Iq.jpg</td>\n",
              "      <td>[53, 878]</td>\n",
              "      <td>1165067</td>\n",
              "      <td>en</td>\n",
              "      <td>Cosmic Chaos</td>\n",
              "      <td>Battles in virtual reality, survival in a post...</td>\n",
              "      <td>260.8825</td>\n",
              "      <td>/mClzWv7gBqgXfjZXp49Enyoex1v.jpg</td>\n",
              "      <td>2023-08-03</td>\n",
              "      <td>Cosmic Chaos</td>\n",
              "      <td>False</td>\n",
              "      <td>6.900</td>\n",
              "      <td>27</td>\n",
              "    </tr>\n",
              "    <tr>\n",
              "      <th>1</th>\n",
              "      <td>False</td>\n",
              "      <td>/nYQJYdfoy7Tkx6bPzUpmCMmyJ4y.jpg</td>\n",
              "      <td>[53, 28]</td>\n",
              "      <td>1151470</td>\n",
              "      <td>en</td>\n",
              "      <td>The Vigilante</td>\n",
              "      <td>Returning from Afghanistan, Jessica, a Spec OP...</td>\n",
              "      <td>63.9038</td>\n",
              "      <td>/xD9LpYZYmNch2EhHWIJXXFayENH.jpg</td>\n",
              "      <td>2023-09-08</td>\n",
              "      <td>The Vigilante</td>\n",
              "      <td>False</td>\n",
              "      <td>5.900</td>\n",
              "      <td>20</td>\n",
              "    </tr>\n",
              "    <tr>\n",
              "      <th>2</th>\n",
              "      <td>False</td>\n",
              "      <td>/4XM8DUTQb3lhLemJC51Jx4a2EuA.jpg</td>\n",
              "      <td>[28, 80, 53, 12, 9648]</td>\n",
              "      <td>385687</td>\n",
              "      <td>en</td>\n",
              "      <td>Fast X</td>\n",
              "      <td>Over many missions and against impossible odds...</td>\n",
              "      <td>33.0435</td>\n",
              "      <td>/fiVW06jE7z9YnO4trhaMEdclSiC.jpg</td>\n",
              "      <td>2023-05-17</td>\n",
              "      <td>Fast X</td>\n",
              "      <td>False</td>\n",
              "      <td>7.000</td>\n",
              "      <td>5833</td>\n",
              "    </tr>\n",
              "    <tr>\n",
              "      <th>3</th>\n",
              "      <td>False</td>\n",
              "      <td>/7I6VUdPj6tQECNHdviJkUHD2u89.jpg</td>\n",
              "      <td>[28, 53, 80]</td>\n",
              "      <td>603692</td>\n",
              "      <td>en</td>\n",
              "      <td>John Wick: Chapter 4</td>\n",
              "      <td>With the price on his head ever increasing, Jo...</td>\n",
              "      <td>29.3793</td>\n",
              "      <td>/vZloFAK7NmvMGKE7VkF5UHaz0I.jpg</td>\n",
              "      <td>2023-03-22</td>\n",
              "      <td>John Wick: Chapter 4</td>\n",
              "      <td>False</td>\n",
              "      <td>7.722</td>\n",
              "      <td>6948</td>\n",
              "    </tr>\n",
              "    <tr>\n",
              "      <th>4</th>\n",
              "      <td>False</td>\n",
              "      <td>/kVd3a9YeLGkoeR50jGEXM6EqseS.jpg</td>\n",
              "      <td>[16, 28, 12, 878]</td>\n",
              "      <td>569094</td>\n",
              "      <td>en</td>\n",
              "      <td>Spider-Man: Across the Spider-Verse</td>\n",
              "      <td>After reuniting with Gwen Stacy, Brooklyn’s fu...</td>\n",
              "      <td>29.2927</td>\n",
              "      <td>/8Vt6mWEReuy4Of61Lnj5Xj704m8.jpg</td>\n",
              "      <td>2023-05-31</td>\n",
              "      <td>Spider-Man: Across the Spider-Verse</td>\n",
              "      <td>False</td>\n",
              "      <td>8.345</td>\n",
              "      <td>7449</td>\n",
              "    </tr>\n",
              "    <tr>\n",
              "      <th>5</th>\n",
              "      <td>False</td>\n",
              "      <td>/neeNHeXjMF5fXoCJRsOmkNGC7q.jpg</td>\n",
              "      <td>[18, 36]</td>\n",
              "      <td>872585</td>\n",
              "      <td>en</td>\n",
              "      <td>Oppenheimer</td>\n",
              "      <td>The story of J. Robert Oppenheimer's role in t...</td>\n",
              "      <td>27.1628</td>\n",
              "      <td>/8Gxv8gSFCU0XGDykEGv7zR1n2ua.jpg</td>\n",
              "      <td>2023-07-19</td>\n",
              "      <td>Oppenheimer</td>\n",
              "      <td>False</td>\n",
              "      <td>8.066</td>\n",
              "      <td>10049</td>\n",
              "    </tr>\n",
              "    <tr>\n",
              "      <th>6</th>\n",
              "      <td>False</td>\n",
              "      <td>/mbYTRO33LJAgpCMrIn9ibiWHbMH.jpg</td>\n",
              "      <td>[35, 12]</td>\n",
              "      <td>346698</td>\n",
              "      <td>en</td>\n",
              "      <td>Barbie</td>\n",
              "      <td>Barbie and Ken are having the time of their li...</td>\n",
              "      <td>25.1240</td>\n",
              "      <td>/iuFNMS8U5cb6xfzi51Dbkovj7vM.jpg</td>\n",
              "      <td>2023-07-19</td>\n",
              "      <td>Barbie</td>\n",
              "      <td>False</td>\n",
              "      <td>6.981</td>\n",
              "      <td>9745</td>\n",
              "    </tr>\n",
              "    <tr>\n",
              "      <th>7</th>\n",
              "      <td>False</td>\n",
              "      <td>/9n2tJBplPbgR2ca05hS5CKXwP2c.jpg</td>\n",
              "      <td>[10751, 35, 12, 16]</td>\n",
              "      <td>502356</td>\n",
              "      <td>en</td>\n",
              "      <td>The Super Mario Bros. Movie</td>\n",
              "      <td>While working underground to fix a water main,...</td>\n",
              "      <td>24.7790</td>\n",
              "      <td>/qNBAXBIQlnOThrVvA6mA2B5ggV6.jpg</td>\n",
              "      <td>2023-04-05</td>\n",
              "      <td>The Super Mario Bros. Movie</td>\n",
              "      <td>False</td>\n",
              "      <td>7.624</td>\n",
              "      <td>9566</td>\n",
              "    </tr>\n",
              "    <tr>\n",
              "      <th>8</th>\n",
              "      <td>False</td>\n",
              "      <td>/gklkxY0veMajdCiGe6ggsh07VG2.jpg</td>\n",
              "      <td>[16, 12, 35, 10751]</td>\n",
              "      <td>940551</td>\n",
              "      <td>en</td>\n",
              "      <td>Migration</td>\n",
              "      <td>After a migrating duck family alights on their...</td>\n",
              "      <td>21.5611</td>\n",
              "      <td>/apQL85BMRgkBWQq6pBXKOLfCyaV.jpg</td>\n",
              "      <td>2023-12-06</td>\n",
              "      <td>Migration</td>\n",
              "      <td>False</td>\n",
              "      <td>7.405</td>\n",
              "      <td>1966</td>\n",
              "    </tr>\n",
              "    <tr>\n",
              "      <th>9</th>\n",
              "      <td>False</td>\n",
              "      <td>/2vFuG6bWGyQUzYS9d69E5l85nIz.jpg</td>\n",
              "      <td>[878, 12, 28]</td>\n",
              "      <td>667538</td>\n",
              "      <td>en</td>\n",
              "      <td>Transformers: Rise of the Beasts</td>\n",
              "      <td>When a new threat capable of destroying the en...</td>\n",
              "      <td>23.1988</td>\n",
              "      <td>/gPbM0MK8CP8A174rmUwGsADNYKD.jpg</td>\n",
              "      <td>2023-06-06</td>\n",
              "      <td>Transformers: Rise of the Beasts</td>\n",
              "      <td>False</td>\n",
              "      <td>7.244</td>\n",
              "      <td>4852</td>\n",
              "    </tr>\n",
              "  </tbody>\n",
              "</table>\n",
              "</div>\n",
              "    <div class=\"colab-df-buttons\">\n",
              "\n",
              "  <div class=\"colab-df-container\">\n",
              "    <button class=\"colab-df-convert\" onclick=\"convertToInteractive('df-44a4f449-fb86-4241-af34-361054cf4aa9')\"\n",
              "            title=\"Convert this dataframe to an interactive table.\"\n",
              "            style=\"display:none;\">\n",
              "\n",
              "  <svg xmlns=\"http://www.w3.org/2000/svg\" height=\"24px\" viewBox=\"0 -960 960 960\">\n",
              "    <path d=\"M120-120v-720h720v720H120Zm60-500h600v-160H180v160Zm220 220h160v-160H400v160Zm0 220h160v-160H400v160ZM180-400h160v-160H180v160Zm440 0h160v-160H620v160ZM180-180h160v-160H180v160Zm440 0h160v-160H620v160Z\"/>\n",
              "  </svg>\n",
              "    </button>\n",
              "\n",
              "  <style>\n",
              "    .colab-df-container {\n",
              "      display:flex;\n",
              "      gap: 12px;\n",
              "    }\n",
              "\n",
              "    .colab-df-convert {\n",
              "      background-color: #E8F0FE;\n",
              "      border: none;\n",
              "      border-radius: 50%;\n",
              "      cursor: pointer;\n",
              "      display: none;\n",
              "      fill: #1967D2;\n",
              "      height: 32px;\n",
              "      padding: 0 0 0 0;\n",
              "      width: 32px;\n",
              "    }\n",
              "\n",
              "    .colab-df-convert:hover {\n",
              "      background-color: #E2EBFA;\n",
              "      box-shadow: 0px 1px 2px rgba(60, 64, 67, 0.3), 0px 1px 3px 1px rgba(60, 64, 67, 0.15);\n",
              "      fill: #174EA6;\n",
              "    }\n",
              "\n",
              "    .colab-df-buttons div {\n",
              "      margin-bottom: 4px;\n",
              "    }\n",
              "\n",
              "    [theme=dark] .colab-df-convert {\n",
              "      background-color: #3B4455;\n",
              "      fill: #D2E3FC;\n",
              "    }\n",
              "\n",
              "    [theme=dark] .colab-df-convert:hover {\n",
              "      background-color: #434B5C;\n",
              "      box-shadow: 0px 1px 3px 1px rgba(0, 0, 0, 0.15);\n",
              "      filter: drop-shadow(0px 1px 2px rgba(0, 0, 0, 0.3));\n",
              "      fill: #FFFFFF;\n",
              "    }\n",
              "  </style>\n",
              "\n",
              "    <script>\n",
              "      const buttonEl =\n",
              "        document.querySelector('#df-44a4f449-fb86-4241-af34-361054cf4aa9 button.colab-df-convert');\n",
              "      buttonEl.style.display =\n",
              "        google.colab.kernel.accessAllowed ? 'block' : 'none';\n",
              "\n",
              "      async function convertToInteractive(key) {\n",
              "        const element = document.querySelector('#df-44a4f449-fb86-4241-af34-361054cf4aa9');\n",
              "        const dataTable =\n",
              "          await google.colab.kernel.invokeFunction('convertToInteractive',\n",
              "                                                    [key], {});\n",
              "        if (!dataTable) return;\n",
              "\n",
              "        const docLinkHtml = 'Like what you see? Visit the ' +\n",
              "          '<a target=\"_blank\" href=https://colab.research.google.com/notebooks/data_table.ipynb>data table notebook</a>'\n",
              "          + ' to learn more about interactive tables.';\n",
              "        element.innerHTML = '';\n",
              "        dataTable['output_type'] = 'display_data';\n",
              "        await google.colab.output.renderOutput(dataTable, element);\n",
              "        const docLink = document.createElement('div');\n",
              "        docLink.innerHTML = docLinkHtml;\n",
              "        element.appendChild(docLink);\n",
              "      }\n",
              "    </script>\n",
              "  </div>\n",
              "\n",
              "\n",
              "<div id=\"df-0fcd6f11-0d48-444b-9ad3-5dd8907f86cc\">\n",
              "  <button class=\"colab-df-quickchart\" onclick=\"quickchart('df-0fcd6f11-0d48-444b-9ad3-5dd8907f86cc')\"\n",
              "            title=\"Suggest charts\"\n",
              "            style=\"display:none;\">\n",
              "\n",
              "<svg xmlns=\"http://www.w3.org/2000/svg\" height=\"24px\"viewBox=\"0 0 24 24\"\n",
              "     width=\"24px\">\n",
              "    <g>\n",
              "        <path d=\"M19 3H5c-1.1 0-2 .9-2 2v14c0 1.1.9 2 2 2h14c1.1 0 2-.9 2-2V5c0-1.1-.9-2-2-2zM9 17H7v-7h2v7zm4 0h-2V7h2v10zm4 0h-2v-4h2v4z\"/>\n",
              "    </g>\n",
              "</svg>\n",
              "  </button>\n",
              "\n",
              "<style>\n",
              "  .colab-df-quickchart {\n",
              "      --bg-color: #E8F0FE;\n",
              "      --fill-color: #1967D2;\n",
              "      --hover-bg-color: #E2EBFA;\n",
              "      --hover-fill-color: #174EA6;\n",
              "      --disabled-fill-color: #AAA;\n",
              "      --disabled-bg-color: #DDD;\n",
              "  }\n",
              "\n",
              "  [theme=dark] .colab-df-quickchart {\n",
              "      --bg-color: #3B4455;\n",
              "      --fill-color: #D2E3FC;\n",
              "      --hover-bg-color: #434B5C;\n",
              "      --hover-fill-color: #FFFFFF;\n",
              "      --disabled-bg-color: #3B4455;\n",
              "      --disabled-fill-color: #666;\n",
              "  }\n",
              "\n",
              "  .colab-df-quickchart {\n",
              "    background-color: var(--bg-color);\n",
              "    border: none;\n",
              "    border-radius: 50%;\n",
              "    cursor: pointer;\n",
              "    display: none;\n",
              "    fill: var(--fill-color);\n",
              "    height: 32px;\n",
              "    padding: 0;\n",
              "    width: 32px;\n",
              "  }\n",
              "\n",
              "  .colab-df-quickchart:hover {\n",
              "    background-color: var(--hover-bg-color);\n",
              "    box-shadow: 0 1px 2px rgba(60, 64, 67, 0.3), 0 1px 3px 1px rgba(60, 64, 67, 0.15);\n",
              "    fill: var(--button-hover-fill-color);\n",
              "  }\n",
              "\n",
              "  .colab-df-quickchart-complete:disabled,\n",
              "  .colab-df-quickchart-complete:disabled:hover {\n",
              "    background-color: var(--disabled-bg-color);\n",
              "    fill: var(--disabled-fill-color);\n",
              "    box-shadow: none;\n",
              "  }\n",
              "\n",
              "  .colab-df-spinner {\n",
              "    border: 2px solid var(--fill-color);\n",
              "    border-color: transparent;\n",
              "    border-bottom-color: var(--fill-color);\n",
              "    animation:\n",
              "      spin 1s steps(1) infinite;\n",
              "  }\n",
              "\n",
              "  @keyframes spin {\n",
              "    0% {\n",
              "      border-color: transparent;\n",
              "      border-bottom-color: var(--fill-color);\n",
              "      border-left-color: var(--fill-color);\n",
              "    }\n",
              "    20% {\n",
              "      border-color: transparent;\n",
              "      border-left-color: var(--fill-color);\n",
              "      border-top-color: var(--fill-color);\n",
              "    }\n",
              "    30% {\n",
              "      border-color: transparent;\n",
              "      border-left-color: var(--fill-color);\n",
              "      border-top-color: var(--fill-color);\n",
              "      border-right-color: var(--fill-color);\n",
              "    }\n",
              "    40% {\n",
              "      border-color: transparent;\n",
              "      border-right-color: var(--fill-color);\n",
              "      border-top-color: var(--fill-color);\n",
              "    }\n",
              "    60% {\n",
              "      border-color: transparent;\n",
              "      border-right-color: var(--fill-color);\n",
              "    }\n",
              "    80% {\n",
              "      border-color: transparent;\n",
              "      border-right-color: var(--fill-color);\n",
              "      border-bottom-color: var(--fill-color);\n",
              "    }\n",
              "    90% {\n",
              "      border-color: transparent;\n",
              "      border-bottom-color: var(--fill-color);\n",
              "    }\n",
              "  }\n",
              "</style>\n",
              "\n",
              "  <script>\n",
              "    async function quickchart(key) {\n",
              "      const quickchartButtonEl =\n",
              "        document.querySelector('#' + key + ' button');\n",
              "      quickchartButtonEl.disabled = true;  // To prevent multiple clicks.\n",
              "      quickchartButtonEl.classList.add('colab-df-spinner');\n",
              "      try {\n",
              "        const charts = await google.colab.kernel.invokeFunction(\n",
              "            'suggestCharts', [key], {});\n",
              "      } catch (error) {\n",
              "        console.error('Error during call to suggestCharts:', error);\n",
              "      }\n",
              "      quickchartButtonEl.classList.remove('colab-df-spinner');\n",
              "      quickchartButtonEl.classList.add('colab-df-quickchart-complete');\n",
              "    }\n",
              "    (() => {\n",
              "      let quickchartButtonEl =\n",
              "        document.querySelector('#df-0fcd6f11-0d48-444b-9ad3-5dd8907f86cc button');\n",
              "      quickchartButtonEl.style.display =\n",
              "        google.colab.kernel.accessAllowed ? 'block' : 'none';\n",
              "    })();\n",
              "  </script>\n",
              "</div>\n",
              "\n",
              "    </div>\n",
              "  </div>\n"
            ],
            "text/plain": [
              "   adult                     backdrop_path               genre_ids       id  \\\n",
              "0  False  /m2mzlsJjE3UAqeUB5fLUkpWg4Iq.jpg               [53, 878]  1165067   \n",
              "1  False  /nYQJYdfoy7Tkx6bPzUpmCMmyJ4y.jpg                [53, 28]  1151470   \n",
              "2  False  /4XM8DUTQb3lhLemJC51Jx4a2EuA.jpg  [28, 80, 53, 12, 9648]   385687   \n",
              "3  False  /7I6VUdPj6tQECNHdviJkUHD2u89.jpg            [28, 53, 80]   603692   \n",
              "4  False  /kVd3a9YeLGkoeR50jGEXM6EqseS.jpg       [16, 28, 12, 878]   569094   \n",
              "5  False   /neeNHeXjMF5fXoCJRsOmkNGC7q.jpg                [18, 36]   872585   \n",
              "6  False  /mbYTRO33LJAgpCMrIn9ibiWHbMH.jpg                [35, 12]   346698   \n",
              "7  False  /9n2tJBplPbgR2ca05hS5CKXwP2c.jpg     [10751, 35, 12, 16]   502356   \n",
              "8  False  /gklkxY0veMajdCiGe6ggsh07VG2.jpg     [16, 12, 35, 10751]   940551   \n",
              "9  False  /2vFuG6bWGyQUzYS9d69E5l85nIz.jpg           [878, 12, 28]   667538   \n",
              "\n",
              "  original_language                       original_title  \\\n",
              "0                en                         Cosmic Chaos   \n",
              "1                en                        The Vigilante   \n",
              "2                en                               Fast X   \n",
              "3                en                 John Wick: Chapter 4   \n",
              "4                en  Spider-Man: Across the Spider-Verse   \n",
              "5                en                          Oppenheimer   \n",
              "6                en                               Barbie   \n",
              "7                en          The Super Mario Bros. Movie   \n",
              "8                en                            Migration   \n",
              "9                en     Transformers: Rise of the Beasts   \n",
              "\n",
              "                                            overview  popularity  \\\n",
              "0  Battles in virtual reality, survival in a post...    260.8825   \n",
              "1  Returning from Afghanistan, Jessica, a Spec OP...     63.9038   \n",
              "2  Over many missions and against impossible odds...     33.0435   \n",
              "3  With the price on his head ever increasing, Jo...     29.3793   \n",
              "4  After reuniting with Gwen Stacy, Brooklyn’s fu...     29.2927   \n",
              "5  The story of J. Robert Oppenheimer's role in t...     27.1628   \n",
              "6  Barbie and Ken are having the time of their li...     25.1240   \n",
              "7  While working underground to fix a water main,...     24.7790   \n",
              "8  After a migrating duck family alights on their...     21.5611   \n",
              "9  When a new threat capable of destroying the en...     23.1988   \n",
              "\n",
              "                        poster_path release_date  \\\n",
              "0  /mClzWv7gBqgXfjZXp49Enyoex1v.jpg   2023-08-03   \n",
              "1  /xD9LpYZYmNch2EhHWIJXXFayENH.jpg   2023-09-08   \n",
              "2  /fiVW06jE7z9YnO4trhaMEdclSiC.jpg   2023-05-17   \n",
              "3   /vZloFAK7NmvMGKE7VkF5UHaz0I.jpg   2023-03-22   \n",
              "4  /8Vt6mWEReuy4Of61Lnj5Xj704m8.jpg   2023-05-31   \n",
              "5  /8Gxv8gSFCU0XGDykEGv7zR1n2ua.jpg   2023-07-19   \n",
              "6  /iuFNMS8U5cb6xfzi51Dbkovj7vM.jpg   2023-07-19   \n",
              "7  /qNBAXBIQlnOThrVvA6mA2B5ggV6.jpg   2023-04-05   \n",
              "8  /apQL85BMRgkBWQq6pBXKOLfCyaV.jpg   2023-12-06   \n",
              "9  /gPbM0MK8CP8A174rmUwGsADNYKD.jpg   2023-06-06   \n",
              "\n",
              "                                 title  video  vote_average  vote_count  \n",
              "0                         Cosmic Chaos  False         6.900          27  \n",
              "1                        The Vigilante  False         5.900          20  \n",
              "2                               Fast X  False         7.000        5833  \n",
              "3                 John Wick: Chapter 4  False         7.722        6948  \n",
              "4  Spider-Man: Across the Spider-Verse  False         8.345        7449  \n",
              "5                          Oppenheimer  False         8.066       10049  \n",
              "6                               Barbie  False         6.981        9745  \n",
              "7          The Super Mario Bros. Movie  False         7.624        9566  \n",
              "8                            Migration  False         7.405        1966  \n",
              "9     Transformers: Rise of the Beasts  False         7.244        4852  "
            ]
          },
          "execution_count": 29,
          "metadata": {},
          "output_type": "execute_result"
        }
      ],
      "source": [
        "df= pd.DataFrame(pelis_usa)\n",
        "df.head(10)"
      ]
    },
    {
      "cell_type": "code",
      "execution_count": 30,
      "metadata": {
        "colab": {
          "base_uri": "https://localhost:8080/"
        },
        "id": "sE-S9OpDQ831",
        "outputId": "b6a375bc-1d62-45dc-916e-80212b2e558e"
      },
      "outputs": [
        {
          "name": "stdout",
          "output_type": "stream",
          "text": [
            "<class 'pandas.core.frame.DataFrame'>\n",
            "RangeIndex: 20 entries, 0 to 19\n",
            "Data columns (total 14 columns):\n",
            " #   Column             Non-Null Count  Dtype  \n",
            "---  ------             --------------  -----  \n",
            " 0   adult              20 non-null     bool   \n",
            " 1   backdrop_path      20 non-null     object \n",
            " 2   genre_ids          20 non-null     object \n",
            " 3   id                 20 non-null     int64  \n",
            " 4   original_language  20 non-null     object \n",
            " 5   original_title     20 non-null     object \n",
            " 6   overview           20 non-null     object \n",
            " 7   popularity         20 non-null     float64\n",
            " 8   poster_path        20 non-null     object \n",
            " 9   release_date       20 non-null     object \n",
            " 10  title              20 non-null     object \n",
            " 11  video              20 non-null     bool   \n",
            " 12  vote_average       20 non-null     float64\n",
            " 13  vote_count         20 non-null     int64  \n",
            "dtypes: bool(2), float64(2), int64(2), object(8)\n",
            "memory usage: 2.0+ KB\n"
          ]
        }
      ],
      "source": [
        "df.info()"
      ]
    },
    {
      "cell_type": "markdown",
      "metadata": {
        "id": "HqVTmiHuCRKg"
      },
      "source": [
        "### 1.5\n",
        "\n"
      ]
    },
    {
      "cell_type": "markdown",
      "metadata": {
        "id": "I6usb1hrCRKg"
      },
      "source": [
        "De las columnas que tenemos realmente nos interesan unas pocas. Yo me voy a quedar con las siguientes:\n",
        "\n",
        "```python\n",
        "col_seleccionadas = [\"id\",\"genre_ids\",\"original_title\",\"title\",\"overview\",\"vote_average\"]\n",
        "```\n",
        "\n",
        "Añade alguna más si quieres, pero manten las anteriores siempre. Construye un nuevo `DataFrame`, \"df_pop_usa\", que contenga sólo las columnas seleccionadas"
      ]
    },
    {
      "cell_type": "code",
      "execution_count": 35,
      "metadata": {
        "colab": {
          "base_uri": "https://localhost:8080/",
          "height": 359
        },
        "id": "dNj8bH-jCRKg",
        "outputId": "238d968b-613e-462f-e88a-04a6006c04b5"
      },
      "outputs": [
        {
          "data": {
            "application/vnd.google.colaboratory.intrinsic+json": {
              "summary": "{\n  \"name\": \"df_pop_usa\",\n  \"rows\": 20,\n  \"fields\": [\n    {\n      \"column\": \"id\",\n      \"properties\": {\n        \"dtype\": \"number\",\n        \"std\": 257364,\n        \"min\": 346698,\n        \"max\": 1165067,\n        \"num_unique_values\": 20,\n        \"samples\": [\n          1165067,\n          447277,\n          1072790\n        ],\n        \"semantic_type\": \"\",\n        \"description\": \"\"\n      }\n    },\n    {\n      \"column\": \"genre_ids\",\n      \"properties\": {\n        \"dtype\": \"object\",\n        \"semantic_type\": \"\",\n        \"description\": \"\"\n      }\n    },\n    {\n      \"column\": \"original_title\",\n      \"properties\": {\n        \"dtype\": \"string\",\n        \"num_unique_values\": 20,\n        \"samples\": [\n          \"Cosmic Chaos\",\n          \"The Little Mermaid\",\n          \"Anyone But You\"\n        ],\n        \"semantic_type\": \"\",\n        \"description\": \"\"\n      }\n    },\n    {\n      \"column\": \"title\",\n      \"properties\": {\n        \"dtype\": \"string\",\n        \"num_unique_values\": 20,\n        \"samples\": [\n          \"Cosmic Chaos\",\n          \"The Little Mermaid\",\n          \"Anyone But You\"\n        ],\n        \"semantic_type\": \"\",\n        \"description\": \"\"\n      }\n    },\n    {\n      \"column\": \"overview\",\n      \"properties\": {\n        \"dtype\": \"string\",\n        \"num_unique_values\": 20,\n        \"samples\": [\n          \"Battles in virtual reality, survival in a post-apocalyptic wasteland, a Soviet spaceship giving a distress signal - Fantastic stories created with advanced special effects and passion.\",\n          \"The youngest of King Triton\\u2019s daughters, and the most defiant, Ariel longs to find out more about the world beyond the sea, and while visiting the surface, falls for the dashing Prince Eric. With mermaids forbidden to interact with humans, Ariel makes a deal with the evil sea witch, Ursula, which gives her a chance to experience life on land, but ultimately places her life \\u2013 and her father\\u2019s crown \\u2013 in jeopardy.\",\n          \"After an amazing first date, Bea and Ben\\u2019s fiery attraction turns ice cold \\u2014 until they find themselves unexpectedly reunited at a destination wedding in Australia. So they do what any two mature adults would do: pretend to be a couple.\"\n        ],\n        \"semantic_type\": \"\",\n        \"description\": \"\"\n      }\n    },\n    {\n      \"column\": \"vote_average\",\n      \"properties\": {\n        \"dtype\": \"number\",\n        \"std\": 0.6349669925113806,\n        \"min\": 5.9,\n        \"max\": 8.345,\n        \"num_unique_values\": 20,\n        \"samples\": [\n          6.9,\n          6.318,\n          6.895\n        ],\n        \"semantic_type\": \"\",\n        \"description\": \"\"\n      }\n    }\n  ]\n}",
              "type": "dataframe",
              "variable_name": "df_pop_usa"
            },
            "text/html": [
              "\n",
              "  <div id=\"df-8f88bb36-0124-4263-98d7-5fb7755950cb\" class=\"colab-df-container\">\n",
              "    <div>\n",
              "<style scoped>\n",
              "    .dataframe tbody tr th:only-of-type {\n",
              "        vertical-align: middle;\n",
              "    }\n",
              "\n",
              "    .dataframe tbody tr th {\n",
              "        vertical-align: top;\n",
              "    }\n",
              "\n",
              "    .dataframe thead th {\n",
              "        text-align: right;\n",
              "    }\n",
              "</style>\n",
              "<table border=\"1\" class=\"dataframe\">\n",
              "  <thead>\n",
              "    <tr style=\"text-align: right;\">\n",
              "      <th></th>\n",
              "      <th>id</th>\n",
              "      <th>genre_ids</th>\n",
              "      <th>original_title</th>\n",
              "      <th>title</th>\n",
              "      <th>overview</th>\n",
              "      <th>vote_average</th>\n",
              "    </tr>\n",
              "  </thead>\n",
              "  <tbody>\n",
              "    <tr>\n",
              "      <th>0</th>\n",
              "      <td>1165067</td>\n",
              "      <td>[53, 878]</td>\n",
              "      <td>Cosmic Chaos</td>\n",
              "      <td>Cosmic Chaos</td>\n",
              "      <td>Battles in virtual reality, survival in a post...</td>\n",
              "      <td>6.900</td>\n",
              "    </tr>\n",
              "    <tr>\n",
              "      <th>1</th>\n",
              "      <td>1151470</td>\n",
              "      <td>[53, 28]</td>\n",
              "      <td>The Vigilante</td>\n",
              "      <td>The Vigilante</td>\n",
              "      <td>Returning from Afghanistan, Jessica, a Spec OP...</td>\n",
              "      <td>5.900</td>\n",
              "    </tr>\n",
              "    <tr>\n",
              "      <th>2</th>\n",
              "      <td>385687</td>\n",
              "      <td>[28, 80, 53, 12, 9648]</td>\n",
              "      <td>Fast X</td>\n",
              "      <td>Fast X</td>\n",
              "      <td>Over many missions and against impossible odds...</td>\n",
              "      <td>7.000</td>\n",
              "    </tr>\n",
              "    <tr>\n",
              "      <th>3</th>\n",
              "      <td>603692</td>\n",
              "      <td>[28, 53, 80]</td>\n",
              "      <td>John Wick: Chapter 4</td>\n",
              "      <td>John Wick: Chapter 4</td>\n",
              "      <td>With the price on his head ever increasing, Jo...</td>\n",
              "      <td>7.722</td>\n",
              "    </tr>\n",
              "    <tr>\n",
              "      <th>4</th>\n",
              "      <td>569094</td>\n",
              "      <td>[16, 28, 12, 878]</td>\n",
              "      <td>Spider-Man: Across the Spider-Verse</td>\n",
              "      <td>Spider-Man: Across the Spider-Verse</td>\n",
              "      <td>After reuniting with Gwen Stacy, Brooklyn’s fu...</td>\n",
              "      <td>8.345</td>\n",
              "    </tr>\n",
              "    <tr>\n",
              "      <th>5</th>\n",
              "      <td>872585</td>\n",
              "      <td>[18, 36]</td>\n",
              "      <td>Oppenheimer</td>\n",
              "      <td>Oppenheimer</td>\n",
              "      <td>The story of J. Robert Oppenheimer's role in t...</td>\n",
              "      <td>8.066</td>\n",
              "    </tr>\n",
              "    <tr>\n",
              "      <th>6</th>\n",
              "      <td>346698</td>\n",
              "      <td>[35, 12]</td>\n",
              "      <td>Barbie</td>\n",
              "      <td>Barbie</td>\n",
              "      <td>Barbie and Ken are having the time of their li...</td>\n",
              "      <td>6.981</td>\n",
              "    </tr>\n",
              "    <tr>\n",
              "      <th>7</th>\n",
              "      <td>502356</td>\n",
              "      <td>[10751, 35, 12, 16]</td>\n",
              "      <td>The Super Mario Bros. Movie</td>\n",
              "      <td>The Super Mario Bros. Movie</td>\n",
              "      <td>While working underground to fix a water main,...</td>\n",
              "      <td>7.624</td>\n",
              "    </tr>\n",
              "    <tr>\n",
              "      <th>8</th>\n",
              "      <td>940551</td>\n",
              "      <td>[16, 12, 35, 10751]</td>\n",
              "      <td>Migration</td>\n",
              "      <td>Migration</td>\n",
              "      <td>After a migrating duck family alights on their...</td>\n",
              "      <td>7.405</td>\n",
              "    </tr>\n",
              "    <tr>\n",
              "      <th>9</th>\n",
              "      <td>667538</td>\n",
              "      <td>[878, 12, 28]</td>\n",
              "      <td>Transformers: Rise of the Beasts</td>\n",
              "      <td>Transformers: Rise of the Beasts</td>\n",
              "      <td>When a new threat capable of destroying the en...</td>\n",
              "      <td>7.244</td>\n",
              "    </tr>\n",
              "  </tbody>\n",
              "</table>\n",
              "</div>\n",
              "    <div class=\"colab-df-buttons\">\n",
              "\n",
              "  <div class=\"colab-df-container\">\n",
              "    <button class=\"colab-df-convert\" onclick=\"convertToInteractive('df-8f88bb36-0124-4263-98d7-5fb7755950cb')\"\n",
              "            title=\"Convert this dataframe to an interactive table.\"\n",
              "            style=\"display:none;\">\n",
              "\n",
              "  <svg xmlns=\"http://www.w3.org/2000/svg\" height=\"24px\" viewBox=\"0 -960 960 960\">\n",
              "    <path d=\"M120-120v-720h720v720H120Zm60-500h600v-160H180v160Zm220 220h160v-160H400v160Zm0 220h160v-160H400v160ZM180-400h160v-160H180v160Zm440 0h160v-160H620v160ZM180-180h160v-160H180v160Zm440 0h160v-160H620v160Z\"/>\n",
              "  </svg>\n",
              "    </button>\n",
              "\n",
              "  <style>\n",
              "    .colab-df-container {\n",
              "      display:flex;\n",
              "      gap: 12px;\n",
              "    }\n",
              "\n",
              "    .colab-df-convert {\n",
              "      background-color: #E8F0FE;\n",
              "      border: none;\n",
              "      border-radius: 50%;\n",
              "      cursor: pointer;\n",
              "      display: none;\n",
              "      fill: #1967D2;\n",
              "      height: 32px;\n",
              "      padding: 0 0 0 0;\n",
              "      width: 32px;\n",
              "    }\n",
              "\n",
              "    .colab-df-convert:hover {\n",
              "      background-color: #E2EBFA;\n",
              "      box-shadow: 0px 1px 2px rgba(60, 64, 67, 0.3), 0px 1px 3px 1px rgba(60, 64, 67, 0.15);\n",
              "      fill: #174EA6;\n",
              "    }\n",
              "\n",
              "    .colab-df-buttons div {\n",
              "      margin-bottom: 4px;\n",
              "    }\n",
              "\n",
              "    [theme=dark] .colab-df-convert {\n",
              "      background-color: #3B4455;\n",
              "      fill: #D2E3FC;\n",
              "    }\n",
              "\n",
              "    [theme=dark] .colab-df-convert:hover {\n",
              "      background-color: #434B5C;\n",
              "      box-shadow: 0px 1px 3px 1px rgba(0, 0, 0, 0.15);\n",
              "      filter: drop-shadow(0px 1px 2px rgba(0, 0, 0, 0.3));\n",
              "      fill: #FFFFFF;\n",
              "    }\n",
              "  </style>\n",
              "\n",
              "    <script>\n",
              "      const buttonEl =\n",
              "        document.querySelector('#df-8f88bb36-0124-4263-98d7-5fb7755950cb button.colab-df-convert');\n",
              "      buttonEl.style.display =\n",
              "        google.colab.kernel.accessAllowed ? 'block' : 'none';\n",
              "\n",
              "      async function convertToInteractive(key) {\n",
              "        const element = document.querySelector('#df-8f88bb36-0124-4263-98d7-5fb7755950cb');\n",
              "        const dataTable =\n",
              "          await google.colab.kernel.invokeFunction('convertToInteractive',\n",
              "                                                    [key], {});\n",
              "        if (!dataTable) return;\n",
              "\n",
              "        const docLinkHtml = 'Like what you see? Visit the ' +\n",
              "          '<a target=\"_blank\" href=https://colab.research.google.com/notebooks/data_table.ipynb>data table notebook</a>'\n",
              "          + ' to learn more about interactive tables.';\n",
              "        element.innerHTML = '';\n",
              "        dataTable['output_type'] = 'display_data';\n",
              "        await google.colab.output.renderOutput(dataTable, element);\n",
              "        const docLink = document.createElement('div');\n",
              "        docLink.innerHTML = docLinkHtml;\n",
              "        element.appendChild(docLink);\n",
              "      }\n",
              "    </script>\n",
              "  </div>\n",
              "\n",
              "\n",
              "<div id=\"df-27d66a85-239d-4644-8454-716c2c6cee49\">\n",
              "  <button class=\"colab-df-quickchart\" onclick=\"quickchart('df-27d66a85-239d-4644-8454-716c2c6cee49')\"\n",
              "            title=\"Suggest charts\"\n",
              "            style=\"display:none;\">\n",
              "\n",
              "<svg xmlns=\"http://www.w3.org/2000/svg\" height=\"24px\"viewBox=\"0 0 24 24\"\n",
              "     width=\"24px\">\n",
              "    <g>\n",
              "        <path d=\"M19 3H5c-1.1 0-2 .9-2 2v14c0 1.1.9 2 2 2h14c1.1 0 2-.9 2-2V5c0-1.1-.9-2-2-2zM9 17H7v-7h2v7zm4 0h-2V7h2v10zm4 0h-2v-4h2v4z\"/>\n",
              "    </g>\n",
              "</svg>\n",
              "  </button>\n",
              "\n",
              "<style>\n",
              "  .colab-df-quickchart {\n",
              "      --bg-color: #E8F0FE;\n",
              "      --fill-color: #1967D2;\n",
              "      --hover-bg-color: #E2EBFA;\n",
              "      --hover-fill-color: #174EA6;\n",
              "      --disabled-fill-color: #AAA;\n",
              "      --disabled-bg-color: #DDD;\n",
              "  }\n",
              "\n",
              "  [theme=dark] .colab-df-quickchart {\n",
              "      --bg-color: #3B4455;\n",
              "      --fill-color: #D2E3FC;\n",
              "      --hover-bg-color: #434B5C;\n",
              "      --hover-fill-color: #FFFFFF;\n",
              "      --disabled-bg-color: #3B4455;\n",
              "      --disabled-fill-color: #666;\n",
              "  }\n",
              "\n",
              "  .colab-df-quickchart {\n",
              "    background-color: var(--bg-color);\n",
              "    border: none;\n",
              "    border-radius: 50%;\n",
              "    cursor: pointer;\n",
              "    display: none;\n",
              "    fill: var(--fill-color);\n",
              "    height: 32px;\n",
              "    padding: 0;\n",
              "    width: 32px;\n",
              "  }\n",
              "\n",
              "  .colab-df-quickchart:hover {\n",
              "    background-color: var(--hover-bg-color);\n",
              "    box-shadow: 0 1px 2px rgba(60, 64, 67, 0.3), 0 1px 3px 1px rgba(60, 64, 67, 0.15);\n",
              "    fill: var(--button-hover-fill-color);\n",
              "  }\n",
              "\n",
              "  .colab-df-quickchart-complete:disabled,\n",
              "  .colab-df-quickchart-complete:disabled:hover {\n",
              "    background-color: var(--disabled-bg-color);\n",
              "    fill: var(--disabled-fill-color);\n",
              "    box-shadow: none;\n",
              "  }\n",
              "\n",
              "  .colab-df-spinner {\n",
              "    border: 2px solid var(--fill-color);\n",
              "    border-color: transparent;\n",
              "    border-bottom-color: var(--fill-color);\n",
              "    animation:\n",
              "      spin 1s steps(1) infinite;\n",
              "  }\n",
              "\n",
              "  @keyframes spin {\n",
              "    0% {\n",
              "      border-color: transparent;\n",
              "      border-bottom-color: var(--fill-color);\n",
              "      border-left-color: var(--fill-color);\n",
              "    }\n",
              "    20% {\n",
              "      border-color: transparent;\n",
              "      border-left-color: var(--fill-color);\n",
              "      border-top-color: var(--fill-color);\n",
              "    }\n",
              "    30% {\n",
              "      border-color: transparent;\n",
              "      border-left-color: var(--fill-color);\n",
              "      border-top-color: var(--fill-color);\n",
              "      border-right-color: var(--fill-color);\n",
              "    }\n",
              "    40% {\n",
              "      border-color: transparent;\n",
              "      border-right-color: var(--fill-color);\n",
              "      border-top-color: var(--fill-color);\n",
              "    }\n",
              "    60% {\n",
              "      border-color: transparent;\n",
              "      border-right-color: var(--fill-color);\n",
              "    }\n",
              "    80% {\n",
              "      border-color: transparent;\n",
              "      border-right-color: var(--fill-color);\n",
              "      border-bottom-color: var(--fill-color);\n",
              "    }\n",
              "    90% {\n",
              "      border-color: transparent;\n",
              "      border-bottom-color: var(--fill-color);\n",
              "    }\n",
              "  }\n",
              "</style>\n",
              "\n",
              "  <script>\n",
              "    async function quickchart(key) {\n",
              "      const quickchartButtonEl =\n",
              "        document.querySelector('#' + key + ' button');\n",
              "      quickchartButtonEl.disabled = true;  // To prevent multiple clicks.\n",
              "      quickchartButtonEl.classList.add('colab-df-spinner');\n",
              "      try {\n",
              "        const charts = await google.colab.kernel.invokeFunction(\n",
              "            'suggestCharts', [key], {});\n",
              "      } catch (error) {\n",
              "        console.error('Error during call to suggestCharts:', error);\n",
              "      }\n",
              "      quickchartButtonEl.classList.remove('colab-df-spinner');\n",
              "      quickchartButtonEl.classList.add('colab-df-quickchart-complete');\n",
              "    }\n",
              "    (() => {\n",
              "      let quickchartButtonEl =\n",
              "        document.querySelector('#df-27d66a85-239d-4644-8454-716c2c6cee49 button');\n",
              "      quickchartButtonEl.style.display =\n",
              "        google.colab.kernel.accessAllowed ? 'block' : 'none';\n",
              "    })();\n",
              "  </script>\n",
              "</div>\n",
              "\n",
              "    </div>\n",
              "  </div>\n"
            ],
            "text/plain": [
              "        id               genre_ids                       original_title  \\\n",
              "0  1165067               [53, 878]                         Cosmic Chaos   \n",
              "1  1151470                [53, 28]                        The Vigilante   \n",
              "2   385687  [28, 80, 53, 12, 9648]                               Fast X   \n",
              "3   603692            [28, 53, 80]                 John Wick: Chapter 4   \n",
              "4   569094       [16, 28, 12, 878]  Spider-Man: Across the Spider-Verse   \n",
              "5   872585                [18, 36]                          Oppenheimer   \n",
              "6   346698                [35, 12]                               Barbie   \n",
              "7   502356     [10751, 35, 12, 16]          The Super Mario Bros. Movie   \n",
              "8   940551     [16, 12, 35, 10751]                            Migration   \n",
              "9   667538           [878, 12, 28]     Transformers: Rise of the Beasts   \n",
              "\n",
              "                                 title  \\\n",
              "0                         Cosmic Chaos   \n",
              "1                        The Vigilante   \n",
              "2                               Fast X   \n",
              "3                 John Wick: Chapter 4   \n",
              "4  Spider-Man: Across the Spider-Verse   \n",
              "5                          Oppenheimer   \n",
              "6                               Barbie   \n",
              "7          The Super Mario Bros. Movie   \n",
              "8                            Migration   \n",
              "9     Transformers: Rise of the Beasts   \n",
              "\n",
              "                                            overview  vote_average  \n",
              "0  Battles in virtual reality, survival in a post...         6.900  \n",
              "1  Returning from Afghanistan, Jessica, a Spec OP...         5.900  \n",
              "2  Over many missions and against impossible odds...         7.000  \n",
              "3  With the price on his head ever increasing, Jo...         7.722  \n",
              "4  After reuniting with Gwen Stacy, Brooklyn’s fu...         8.345  \n",
              "5  The story of J. Robert Oppenheimer's role in t...         8.066  \n",
              "6  Barbie and Ken are having the time of their li...         6.981  \n",
              "7  While working underground to fix a water main,...         7.624  \n",
              "8  After a migrating duck family alights on their...         7.405  \n",
              "9  When a new threat capable of destroying the en...         7.244  "
            ]
          },
          "execution_count": 35,
          "metadata": {},
          "output_type": "execute_result"
        }
      ],
      "source": [
        "col_seleccionadas = [\"id\",\"genre_ids\",\"original_title\",\"title\",\"overview\",\"vote_average\"]\n",
        "df_pop_usa = df[col_seleccionadas]\n",
        "df_pop_usa.head(10)"
      ]
    },
    {
      "cell_type": "markdown",
      "metadata": {
        "id": "y5pw9TGeCRKg"
      },
      "source": [
        "### 1.6\n",
        "\n",
        "Guardamos ese dataframe para luego, ahora vamos a buscar las películas españolas. Para ello vamos a probar el otro método, ahora crea un diccionario siguiendo esta estructura:\n",
        "\n",
        "```python\n",
        "querystring = {\n",
        "    \"api_key\": \"PON AQUI TU API-KEY\",\n",
        "    \"parametro1\": \"valor1\",\n",
        "    ...\n",
        "}\n",
        "```"
      ]
    },
    {
      "cell_type": "code",
      "execution_count": 36,
      "metadata": {
        "id": "DIg3pV5GCRKg"
      },
      "outputs": [],
      "source": [
        "querystring = {\n",
        "    \"api_key\": api_key,\n",
        "    \"language\": \"es-ES\",                      # Resultados estén en español\n",
        "    \"primary_release_year\": 2023,             # Año de lanzamiento\n",
        "    \"with_origin_country\": \"ES\",              # Código de país para España\n",
        "    \"sort_by\": \"popularity.desc\",             # Ordenar\n",
        "    \"page\": 1\n",
        "}"
      ]
    },
    {
      "cell_type": "markdown",
      "metadata": {
        "id": "OIC_7KXUCRKg"
      },
      "source": [
        "### 1.7\n",
        "\n",
        "Ahora construye la url_spain, pero ten en cuenta que ya sólo necesitas la url base y el endpoint\n"
      ]
    },
    {
      "cell_type": "code",
      "execution_count": 40,
      "metadata": {
        "id": "2HIbo2_PCRKg"
      },
      "outputs": [],
      "source": [
        "url_spain = base_url + end_point"
      ]
    },
    {
      "cell_type": "markdown",
      "metadata": {
        "id": "3OV2HBh6CRKg"
      },
      "source": [
        "### 1.8\n",
        "\n",
        "Lanza la petición usando el método adecuado y con argumentos `url_spain` para la url y el diccionario creado en \\#1.6 para el argumento \"params\" (que es como se envían parametros fuera de la url, hay otra forma a través del parámetro data, pero lo iremos viendo a lo largo del curso). Asigna la respuesta a `respuesta_spain`, y muestra su \"status_code\" y su \"reason\"."
      ]
    },
    {
      "cell_type": "code",
      "execution_count": 42,
      "metadata": {
        "id": "UjpXi-TsCRKg"
      },
      "outputs": [],
      "source": [
        "respuesta_spain = requests.request(\"GET\", url_spain, params=querystring)"
      ]
    },
    {
      "cell_type": "code",
      "execution_count": 44,
      "metadata": {
        "colab": {
          "base_uri": "https://localhost:8080/"
        },
        "id": "FsYCc8aUCRKg",
        "outputId": "4a4b0a7f-cf33-4d58-919b-9b957c1811e2"
      },
      "outputs": [
        {
          "data": {
            "text/plain": [
              "200"
            ]
          },
          "execution_count": 44,
          "metadata": {},
          "output_type": "execute_result"
        }
      ],
      "source": [
        "respuesta_spain.status_code"
      ]
    },
    {
      "cell_type": "code",
      "execution_count": 45,
      "metadata": {
        "colab": {
          "base_uri": "https://localhost:8080/",
          "height": 35
        },
        "id": "c4Hz1X9NCRKg",
        "outputId": "35710534-9464-40fb-85eb-79cd11c96a52"
      },
      "outputs": [
        {
          "data": {
            "application/vnd.google.colaboratory.intrinsic+json": {
              "type": "string"
            },
            "text/plain": [
              "'OK'"
            ]
          },
          "execution_count": 45,
          "metadata": {},
          "output_type": "execute_result"
        }
      ],
      "source": [
        "respuesta_spain.reason"
      ]
    },
    {
      "cell_type": "markdown",
      "metadata": {
        "id": "WN3m7GcOCRKg"
      },
      "source": [
        "### 1.9\n",
        "Repite todo el proceso que hicimos para las películas norteamericanas hasta obtener un dataframe similar (con las mismas columnas), llámalo `df_pop_spain`. Si no tienes el API-Key o no has sabido obtener los datos de la API, utiliza los datos que hay en \"./data/spain_movies.json\""
      ]
    },
    {
      "cell_type": "code",
      "execution_count": 53,
      "metadata": {
        "colab": {
          "base_uri": "https://localhost:8080/"
        },
        "id": "fvVXmGrSCRKh",
        "outputId": "4f4e0d71-50f7-4ca8-fdc4-fa4ea01d1776"
      },
      "outputs": [
        {
          "name": "stdout",
          "output_type": "stream",
          "text": [
            "\n",
            "Títulos de películas:\n",
            "Culpa mía\n",
            "Moscas\n",
            "A través de mi ventana 2: A través del mar\n",
            "La sociedad de la nieve\n",
            "Robot Dreams\n",
            "Nowhere\n",
            "Malditas\n",
            "Héroes de Central Park\n",
            "Momias\n",
            "La mesita del comedor\n",
            "Todos los nombres de Dios\n",
            "Tin y Tina\n",
            "Extraña forma de vida\n",
            "Momonsters: la película\n",
            "El hombre del saco\n",
            "Slasher\n",
            "Creatura\n",
            "La niña de la comunión\n",
            "Bird Box Barcelona\n",
            "Mi soledad tiene alas\n"
          ]
        }
      ],
      "source": [
        "datos_spain = respuesta_spain.json()\n",
        "print(\"\\nTítulos de películas:\")\n",
        "for pelicula in datos_spain[\"results\"]:\n",
        "    print(pelicula[\"title\"])\n",
        "\n",
        "pelis_spain = datos_spain[\"results\"]"
      ]
    },
    {
      "cell_type": "code",
      "execution_count": 55,
      "metadata": {
        "colab": {
          "base_uri": "https://localhost:8080/",
          "height": 359
        },
        "id": "KayFvObfUYa4",
        "outputId": "8bf13cdf-125b-48aa-8d2e-2ab4441ead30"
      },
      "outputs": [
        {
          "data": {
            "application/vnd.google.colaboratory.intrinsic+json": {
              "summary": "{\n  \"name\": \"df_pop_spain\",\n  \"rows\": 20,\n  \"fields\": [\n    {\n      \"column\": \"id\",\n      \"properties\": {\n        \"dtype\": \"number\",\n        \"std\": 119780,\n        \"min\": 805320,\n        \"max\": 1211836,\n        \"num_unique_values\": 20,\n        \"samples\": [\n          1010581,\n          1008005,\n          1027535\n        ],\n        \"semantic_type\": \"\",\n        \"description\": \"\"\n      }\n    },\n    {\n      \"column\": \"genre_ids\",\n      \"properties\": {\n        \"dtype\": \"object\",\n        \"semantic_type\": \"\",\n        \"description\": \"\"\n      }\n    },\n    {\n      \"column\": \"original_title\",\n      \"properties\": {\n        \"dtype\": \"string\",\n        \"num_unique_values\": 20,\n        \"samples\": [\n          \"Culpa m\\u00eda\",\n          \"La ni\\u00f1a de la comuni\\u00f3n\",\n          \"Slasher\"\n        ],\n        \"semantic_type\": \"\",\n        \"description\": \"\"\n      }\n    },\n    {\n      \"column\": \"title\",\n      \"properties\": {\n        \"dtype\": \"string\",\n        \"num_unique_values\": 20,\n        \"samples\": [\n          \"Culpa m\\u00eda\",\n          \"La ni\\u00f1a de la comuni\\u00f3n\",\n          \"Slasher\"\n        ],\n        \"semantic_type\": \"\",\n        \"description\": \"\"\n      }\n    },\n    {\n      \"column\": \"overview\",\n      \"properties\": {\n        \"dtype\": \"string\",\n        \"num_unique_values\": 20,\n        \"samples\": [\n          \"Noah debe dejar su ciudad, novio y amigos para mudarse a la mansi\\u00f3n de William Leister, el flamante y rico marido de su madre Rafaela. Por otro lado, con 17 a\\u00f1os, orgullosa e independiente, Noah se resiste a vivir en una mansi\\u00f3n rodeada de lujo. All\\u00ed conoce a Nick, su nuevo hermanastro, y el choque de sus fuertes personalidades se hace evidente desde el primer momento.\",\n          \"Finales de los 80. En un pueblo no determinado. Sara acaba de llegar a la zona y no encuentra su lugar en ese espacio cerrado. Su mejor amiga es Rebe, mucho m\\u00e1s extrovertida. Una noche van a una discoteca, toman drogas y durante el trayecto a casa encontrar\\u00e1n una mu\\u00f1eca vestida de comuni\\u00f3n. A partir de ese momento, comenzar\\u00e1 la pesadilla.\",\n          \"Julio es un ni\\u00f1o que vive con sus padres en una casa apartada del pueblo. Su padre comete asesinatos ocultando su rostro tras una m\\u00e1scara mientras Carmen, su madre, regenta una peque\\u00f1a tienda de alimentaci\\u00f3n.  Diez a\\u00f1os m\\u00e1s tarde, un grupo de amigos van a pasar un fin de semana en una casa rural del pueblo, el cual se ha hecho famoso por las numerosas desapariciones que sucedieron tiempo atr\\u00e1s.  El grupo visita la tienda regentada por Carmen y Julio el mismo d\\u00eda en el que \\u00e9l cumple 18 a\\u00f1os, produci\\u00e9ndose un primer encuentro fugaz entre ellos.  Carmen tiene una sorpresa preparada para su hijo, una m\\u00e1scara como la de su padre.  Julio deber\\u00e1 elegir entre continuar la tradici\\u00f3n familiar de ser asesino o abrazar el amor de \\u00darsula, una de las chicas del grupo que acaba de conocer.\"\n        ],\n        \"semantic_type\": \"\",\n        \"description\": \"\"\n      }\n    },\n    {\n      \"column\": \"vote_average\",\n      \"properties\": {\n        \"dtype\": \"number\",\n        \"std\": 1.6405859439461514,\n        \"min\": 0.0,\n        \"max\": 8.012,\n        \"num_unique_values\": 19,\n        \"samples\": [\n          7.823,\n          7.4,\n          6.001\n        ],\n        \"semantic_type\": \"\",\n        \"description\": \"\"\n      }\n    }\n  ]\n}",
              "type": "dataframe",
              "variable_name": "df_pop_spain"
            },
            "text/html": [
              "\n",
              "  <div id=\"df-5dc6d9dd-ab53-498e-88e5-c1f95f8c64b1\" class=\"colab-df-container\">\n",
              "    <div>\n",
              "<style scoped>\n",
              "    .dataframe tbody tr th:only-of-type {\n",
              "        vertical-align: middle;\n",
              "    }\n",
              "\n",
              "    .dataframe tbody tr th {\n",
              "        vertical-align: top;\n",
              "    }\n",
              "\n",
              "    .dataframe thead th {\n",
              "        text-align: right;\n",
              "    }\n",
              "</style>\n",
              "<table border=\"1\" class=\"dataframe\">\n",
              "  <thead>\n",
              "    <tr style=\"text-align: right;\">\n",
              "      <th></th>\n",
              "      <th>id</th>\n",
              "      <th>genre_ids</th>\n",
              "      <th>original_title</th>\n",
              "      <th>title</th>\n",
              "      <th>overview</th>\n",
              "      <th>vote_average</th>\n",
              "    </tr>\n",
              "  </thead>\n",
              "  <tbody>\n",
              "    <tr>\n",
              "      <th>0</th>\n",
              "      <td>1010581</td>\n",
              "      <td>[10749, 18]</td>\n",
              "      <td>Culpa mía</td>\n",
              "      <td>Culpa mía</td>\n",
              "      <td>Noah debe dejar su ciudad, novio y amigos para...</td>\n",
              "      <td>7.823</td>\n",
              "    </tr>\n",
              "    <tr>\n",
              "      <th>1</th>\n",
              "      <td>1177908</td>\n",
              "      <td>[53]</td>\n",
              "      <td>Moscas</td>\n",
              "      <td>Moscas</td>\n",
              "      <td>El señor Machi es un empresario aficionado a l...</td>\n",
              "      <td>6.500</td>\n",
              "    </tr>\n",
              "    <tr>\n",
              "      <th>2</th>\n",
              "      <td>988078</td>\n",
              "      <td>[10749, 18, 35]</td>\n",
              "      <td>A través del mar</td>\n",
              "      <td>A través de mi ventana 2: A través del mar</td>\n",
              "      <td>Tras pasar un año separados, Raquel y Ares se ...</td>\n",
              "      <td>6.600</td>\n",
              "    </tr>\n",
              "    <tr>\n",
              "      <th>3</th>\n",
              "      <td>906126</td>\n",
              "      <td>[18, 36]</td>\n",
              "      <td>La sociedad de la nieve</td>\n",
              "      <td>La sociedad de la nieve</td>\n",
              "      <td>El 13 de octubre de 1972, el vuelo 571 de la F...</td>\n",
              "      <td>8.002</td>\n",
              "    </tr>\n",
              "    <tr>\n",
              "      <th>4</th>\n",
              "      <td>838240</td>\n",
              "      <td>[16, 18, 35, 878]</td>\n",
              "      <td>Robot Dreams</td>\n",
              "      <td>Robot Dreams</td>\n",
              "      <td>DOG es un perro solitario que vive en Manhatta...</td>\n",
              "      <td>8.012</td>\n",
              "    </tr>\n",
              "    <tr>\n",
              "      <th>5</th>\n",
              "      <td>1151534</td>\n",
              "      <td>[53, 18]</td>\n",
              "      <td>Nowhere</td>\n",
              "      <td>Nowhere</td>\n",
              "      <td>Embarazada, sola y a la deriva en el mar, una ...</td>\n",
              "      <td>7.400</td>\n",
              "    </tr>\n",
              "    <tr>\n",
              "      <th>6</th>\n",
              "      <td>1154864</td>\n",
              "      <td>[27, 28, 18]</td>\n",
              "      <td>Malditas</td>\n",
              "      <td>Malditas</td>\n",
              "      <td>Las vidas de seis niñas pertenecen a mundos di...</td>\n",
              "      <td>6.306</td>\n",
              "    </tr>\n",
              "    <tr>\n",
              "      <th>7</th>\n",
              "      <td>1059264</td>\n",
              "      <td>[16, 12, 35, 10751]</td>\n",
              "      <td>The Inseparables</td>\n",
              "      <td>Héroes de Central Park</td>\n",
              "      <td>Un títere de Don Quijote fugitivo con una imag...</td>\n",
              "      <td>6.400</td>\n",
              "    </tr>\n",
              "    <tr>\n",
              "      <th>8</th>\n",
              "      <td>816904</td>\n",
              "      <td>[16, 12, 14, 10751]</td>\n",
              "      <td>Momias</td>\n",
              "      <td>Momias</td>\n",
              "      <td>En las entrañas de la tierra, ¡existe una ciud...</td>\n",
              "      <td>6.970</td>\n",
              "    </tr>\n",
              "    <tr>\n",
              "      <th>9</th>\n",
              "      <td>1056380</td>\n",
              "      <td>[27, 53, 18, 35]</td>\n",
              "      <td>La mesita del comedor</td>\n",
              "      <td>La mesita del comedor</td>\n",
              "      <td>Una pareja que acaba de ser padres y no pasa p...</td>\n",
              "      <td>6.959</td>\n",
              "    </tr>\n",
              "  </tbody>\n",
              "</table>\n",
              "</div>\n",
              "    <div class=\"colab-df-buttons\">\n",
              "\n",
              "  <div class=\"colab-df-container\">\n",
              "    <button class=\"colab-df-convert\" onclick=\"convertToInteractive('df-5dc6d9dd-ab53-498e-88e5-c1f95f8c64b1')\"\n",
              "            title=\"Convert this dataframe to an interactive table.\"\n",
              "            style=\"display:none;\">\n",
              "\n",
              "  <svg xmlns=\"http://www.w3.org/2000/svg\" height=\"24px\" viewBox=\"0 -960 960 960\">\n",
              "    <path d=\"M120-120v-720h720v720H120Zm60-500h600v-160H180v160Zm220 220h160v-160H400v160Zm0 220h160v-160H400v160ZM180-400h160v-160H180v160Zm440 0h160v-160H620v160ZM180-180h160v-160H180v160Zm440 0h160v-160H620v160Z\"/>\n",
              "  </svg>\n",
              "    </button>\n",
              "\n",
              "  <style>\n",
              "    .colab-df-container {\n",
              "      display:flex;\n",
              "      gap: 12px;\n",
              "    }\n",
              "\n",
              "    .colab-df-convert {\n",
              "      background-color: #E8F0FE;\n",
              "      border: none;\n",
              "      border-radius: 50%;\n",
              "      cursor: pointer;\n",
              "      display: none;\n",
              "      fill: #1967D2;\n",
              "      height: 32px;\n",
              "      padding: 0 0 0 0;\n",
              "      width: 32px;\n",
              "    }\n",
              "\n",
              "    .colab-df-convert:hover {\n",
              "      background-color: #E2EBFA;\n",
              "      box-shadow: 0px 1px 2px rgba(60, 64, 67, 0.3), 0px 1px 3px 1px rgba(60, 64, 67, 0.15);\n",
              "      fill: #174EA6;\n",
              "    }\n",
              "\n",
              "    .colab-df-buttons div {\n",
              "      margin-bottom: 4px;\n",
              "    }\n",
              "\n",
              "    [theme=dark] .colab-df-convert {\n",
              "      background-color: #3B4455;\n",
              "      fill: #D2E3FC;\n",
              "    }\n",
              "\n",
              "    [theme=dark] .colab-df-convert:hover {\n",
              "      background-color: #434B5C;\n",
              "      box-shadow: 0px 1px 3px 1px rgba(0, 0, 0, 0.15);\n",
              "      filter: drop-shadow(0px 1px 2px rgba(0, 0, 0, 0.3));\n",
              "      fill: #FFFFFF;\n",
              "    }\n",
              "  </style>\n",
              "\n",
              "    <script>\n",
              "      const buttonEl =\n",
              "        document.querySelector('#df-5dc6d9dd-ab53-498e-88e5-c1f95f8c64b1 button.colab-df-convert');\n",
              "      buttonEl.style.display =\n",
              "        google.colab.kernel.accessAllowed ? 'block' : 'none';\n",
              "\n",
              "      async function convertToInteractive(key) {\n",
              "        const element = document.querySelector('#df-5dc6d9dd-ab53-498e-88e5-c1f95f8c64b1');\n",
              "        const dataTable =\n",
              "          await google.colab.kernel.invokeFunction('convertToInteractive',\n",
              "                                                    [key], {});\n",
              "        if (!dataTable) return;\n",
              "\n",
              "        const docLinkHtml = 'Like what you see? Visit the ' +\n",
              "          '<a target=\"_blank\" href=https://colab.research.google.com/notebooks/data_table.ipynb>data table notebook</a>'\n",
              "          + ' to learn more about interactive tables.';\n",
              "        element.innerHTML = '';\n",
              "        dataTable['output_type'] = 'display_data';\n",
              "        await google.colab.output.renderOutput(dataTable, element);\n",
              "        const docLink = document.createElement('div');\n",
              "        docLink.innerHTML = docLinkHtml;\n",
              "        element.appendChild(docLink);\n",
              "      }\n",
              "    </script>\n",
              "  </div>\n",
              "\n",
              "\n",
              "<div id=\"df-8367ff87-f722-4ea5-9f34-da155189125b\">\n",
              "  <button class=\"colab-df-quickchart\" onclick=\"quickchart('df-8367ff87-f722-4ea5-9f34-da155189125b')\"\n",
              "            title=\"Suggest charts\"\n",
              "            style=\"display:none;\">\n",
              "\n",
              "<svg xmlns=\"http://www.w3.org/2000/svg\" height=\"24px\"viewBox=\"0 0 24 24\"\n",
              "     width=\"24px\">\n",
              "    <g>\n",
              "        <path d=\"M19 3H5c-1.1 0-2 .9-2 2v14c0 1.1.9 2 2 2h14c1.1 0 2-.9 2-2V5c0-1.1-.9-2-2-2zM9 17H7v-7h2v7zm4 0h-2V7h2v10zm4 0h-2v-4h2v4z\"/>\n",
              "    </g>\n",
              "</svg>\n",
              "  </button>\n",
              "\n",
              "<style>\n",
              "  .colab-df-quickchart {\n",
              "      --bg-color: #E8F0FE;\n",
              "      --fill-color: #1967D2;\n",
              "      --hover-bg-color: #E2EBFA;\n",
              "      --hover-fill-color: #174EA6;\n",
              "      --disabled-fill-color: #AAA;\n",
              "      --disabled-bg-color: #DDD;\n",
              "  }\n",
              "\n",
              "  [theme=dark] .colab-df-quickchart {\n",
              "      --bg-color: #3B4455;\n",
              "      --fill-color: #D2E3FC;\n",
              "      --hover-bg-color: #434B5C;\n",
              "      --hover-fill-color: #FFFFFF;\n",
              "      --disabled-bg-color: #3B4455;\n",
              "      --disabled-fill-color: #666;\n",
              "  }\n",
              "\n",
              "  .colab-df-quickchart {\n",
              "    background-color: var(--bg-color);\n",
              "    border: none;\n",
              "    border-radius: 50%;\n",
              "    cursor: pointer;\n",
              "    display: none;\n",
              "    fill: var(--fill-color);\n",
              "    height: 32px;\n",
              "    padding: 0;\n",
              "    width: 32px;\n",
              "  }\n",
              "\n",
              "  .colab-df-quickchart:hover {\n",
              "    background-color: var(--hover-bg-color);\n",
              "    box-shadow: 0 1px 2px rgba(60, 64, 67, 0.3), 0 1px 3px 1px rgba(60, 64, 67, 0.15);\n",
              "    fill: var(--button-hover-fill-color);\n",
              "  }\n",
              "\n",
              "  .colab-df-quickchart-complete:disabled,\n",
              "  .colab-df-quickchart-complete:disabled:hover {\n",
              "    background-color: var(--disabled-bg-color);\n",
              "    fill: var(--disabled-fill-color);\n",
              "    box-shadow: none;\n",
              "  }\n",
              "\n",
              "  .colab-df-spinner {\n",
              "    border: 2px solid var(--fill-color);\n",
              "    border-color: transparent;\n",
              "    border-bottom-color: var(--fill-color);\n",
              "    animation:\n",
              "      spin 1s steps(1) infinite;\n",
              "  }\n",
              "\n",
              "  @keyframes spin {\n",
              "    0% {\n",
              "      border-color: transparent;\n",
              "      border-bottom-color: var(--fill-color);\n",
              "      border-left-color: var(--fill-color);\n",
              "    }\n",
              "    20% {\n",
              "      border-color: transparent;\n",
              "      border-left-color: var(--fill-color);\n",
              "      border-top-color: var(--fill-color);\n",
              "    }\n",
              "    30% {\n",
              "      border-color: transparent;\n",
              "      border-left-color: var(--fill-color);\n",
              "      border-top-color: var(--fill-color);\n",
              "      border-right-color: var(--fill-color);\n",
              "    }\n",
              "    40% {\n",
              "      border-color: transparent;\n",
              "      border-right-color: var(--fill-color);\n",
              "      border-top-color: var(--fill-color);\n",
              "    }\n",
              "    60% {\n",
              "      border-color: transparent;\n",
              "      border-right-color: var(--fill-color);\n",
              "    }\n",
              "    80% {\n",
              "      border-color: transparent;\n",
              "      border-right-color: var(--fill-color);\n",
              "      border-bottom-color: var(--fill-color);\n",
              "    }\n",
              "    90% {\n",
              "      border-color: transparent;\n",
              "      border-bottom-color: var(--fill-color);\n",
              "    }\n",
              "  }\n",
              "</style>\n",
              "\n",
              "  <script>\n",
              "    async function quickchart(key) {\n",
              "      const quickchartButtonEl =\n",
              "        document.querySelector('#' + key + ' button');\n",
              "      quickchartButtonEl.disabled = true;  // To prevent multiple clicks.\n",
              "      quickchartButtonEl.classList.add('colab-df-spinner');\n",
              "      try {\n",
              "        const charts = await google.colab.kernel.invokeFunction(\n",
              "            'suggestCharts', [key], {});\n",
              "      } catch (error) {\n",
              "        console.error('Error during call to suggestCharts:', error);\n",
              "      }\n",
              "      quickchartButtonEl.classList.remove('colab-df-spinner');\n",
              "      quickchartButtonEl.classList.add('colab-df-quickchart-complete');\n",
              "    }\n",
              "    (() => {\n",
              "      let quickchartButtonEl =\n",
              "        document.querySelector('#df-8367ff87-f722-4ea5-9f34-da155189125b button');\n",
              "      quickchartButtonEl.style.display =\n",
              "        google.colab.kernel.accessAllowed ? 'block' : 'none';\n",
              "    })();\n",
              "  </script>\n",
              "</div>\n",
              "\n",
              "    </div>\n",
              "  </div>\n"
            ],
            "text/plain": [
              "        id            genre_ids           original_title  \\\n",
              "0  1010581          [10749, 18]                Culpa mía   \n",
              "1  1177908                 [53]                   Moscas   \n",
              "2   988078      [10749, 18, 35]         A través del mar   \n",
              "3   906126             [18, 36]  La sociedad de la nieve   \n",
              "4   838240    [16, 18, 35, 878]             Robot Dreams   \n",
              "5  1151534             [53, 18]                  Nowhere   \n",
              "6  1154864         [27, 28, 18]                 Malditas   \n",
              "7  1059264  [16, 12, 35, 10751]         The Inseparables   \n",
              "8   816904  [16, 12, 14, 10751]                   Momias   \n",
              "9  1056380     [27, 53, 18, 35]    La mesita del comedor   \n",
              "\n",
              "                                        title  \\\n",
              "0                                   Culpa mía   \n",
              "1                                      Moscas   \n",
              "2  A través de mi ventana 2: A través del mar   \n",
              "3                     La sociedad de la nieve   \n",
              "4                                Robot Dreams   \n",
              "5                                     Nowhere   \n",
              "6                                    Malditas   \n",
              "7                      Héroes de Central Park   \n",
              "8                                      Momias   \n",
              "9                       La mesita del comedor   \n",
              "\n",
              "                                            overview  vote_average  \n",
              "0  Noah debe dejar su ciudad, novio y amigos para...         7.823  \n",
              "1  El señor Machi es un empresario aficionado a l...         6.500  \n",
              "2  Tras pasar un año separados, Raquel y Ares se ...         6.600  \n",
              "3  El 13 de octubre de 1972, el vuelo 571 de la F...         8.002  \n",
              "4  DOG es un perro solitario que vive en Manhatta...         8.012  \n",
              "5  Embarazada, sola y a la deriva en el mar, una ...         7.400  \n",
              "6  Las vidas de seis niñas pertenecen a mundos di...         6.306  \n",
              "7  Un títere de Don Quijote fugitivo con una imag...         6.400  \n",
              "8  En las entrañas de la tierra, ¡existe una ciud...         6.970  \n",
              "9  Una pareja que acaba de ser padres y no pasa p...         6.959  "
            ]
          },
          "execution_count": 55,
          "metadata": {},
          "output_type": "execute_result"
        }
      ],
      "source": [
        "df_spain= pd.DataFrame(pelis_spain)\n",
        "df_spain.head(10)\n",
        "col_seleccionadas = [\"id\",\"genre_ids\",\"original_title\",\"title\",\"overview\",\"vote_average\"]\n",
        "df_pop_spain = df_spain[col_seleccionadas]\n",
        "df_pop_spain.head(10)"
      ]
    },
    {
      "cell_type": "markdown",
      "metadata": {
        "id": "s-xL7GECCRKh"
      },
      "source": [
        "### 1.10\n",
        "Para concluir esta parte, junta los dos dataframes en uno solo, df_base_movies, usando el método [pd.concat](https://pandas.pydata.org/docs/reference/api/pandas.concat.html) de pandas. Luego convierte la columna id en su índice."
      ]
    },
    {
      "cell_type": "code",
      "execution_count": 6,
      "metadata": {
        "colab": {
          "base_uri": "https://localhost:8080/",
          "height": 1000
        },
        "id": "kfc_MHy8CRKh",
        "outputId": "878e92e5-2046-4073-86c0-bc70b2eee538"
      },
      "outputs": [
        {
          "ename": "NameError",
          "evalue": "name 'df_pop_usa' is not defined",
          "output_type": "error",
          "traceback": [
            "\u001b[0;31m---------------------------------------------------------------------------\u001b[0m",
            "\u001b[0;31mNameError\u001b[0m                                 Traceback (most recent call last)",
            "Cell \u001b[0;32mIn[6], line 1\u001b[0m\n\u001b[0;32m----> 1\u001b[0m df_movies \u001b[38;5;241m=\u001b[39m pd\u001b[38;5;241m.\u001b[39mconcat([\u001b[43mdf_pop_usa\u001b[49m, df_pop_spain], ignore_index\u001b[38;5;241m=\u001b[39m \u001b[38;5;28;01mTrue\u001b[39;00m)\n\u001b[1;32m      2\u001b[0m df_movies \u001b[38;5;241m=\u001b[39m df_movies\u001b[38;5;241m.\u001b[39mset_index(\u001b[38;5;124m\"\u001b[39m\u001b[38;5;124mid\u001b[39m\u001b[38;5;124m\"\u001b[39m)\n\u001b[1;32m      3\u001b[0m df_movies\u001b[38;5;241m.\u001b[39mhead(\u001b[38;5;241m40\u001b[39m)\n",
            "\u001b[0;31mNameError\u001b[0m: name 'df_pop_usa' is not defined"
          ]
        }
      ],
      "source": [
        "df_movies = pd.concat([df_pop_usa, df_pop_spain], ignore_index= True)\n",
        "df_movies = df_movies.set_index(\"id\")\n",
        "df_movies.head(40)\n"
      ]
    },
    {
      "cell_type": "markdown",
      "metadata": {
        "id": "4rus6CuKCRKh"
      },
      "source": [
        "## #2 Scrapping: BoxOfficeMojo"
      ]
    },
    {
      "cell_type": "markdown",
      "metadata": {
        "id": "gMSkfaDICRKh"
      },
      "source": [
        "### 2.1 [EXTRA]\n",
        "Si el primer ejercicio es extra, porque el tiempo de ejecución depende muy mucho de lo bien que se te de inspeccionar la página y entender los tags y los atributos. Pero te animo a que lo intentes, lo haremos en clase en cualquier caso."
      ]
    },
    {
      "cell_type": "markdown",
      "metadata": {
        "id": "KDXPdNrbCRKh"
      },
      "source": [
        "Este ejercicio consiste en scrapear la página de ingresos mundiales de las películas con mayores ingresos que ofrece el site BoxOfficeMojo en la siguiente url:"
      ]
    },
    {
      "cell_type": "code",
      "execution_count": null,
      "metadata": {
        "id": "50iw4hbZCRKh"
      },
      "outputs": [],
      "source": [
        "url_mojo = \"https://www.boxofficemojo.com/year/2023/?area=ES\""
      ]
    },
    {
      "cell_type": "markdown",
      "metadata": {
        "id": "fPY-z5OfCRKh"
      },
      "source": [
        "Tendrás que acceder inspeccionar y buscar los tags necesarios para obtener una dataframe que refleje los mismos datos que muestra la tabla."
      ]
    },
    {
      "cell_type": "markdown",
      "metadata": {
        "id": "5eP4klY4CRKh"
      },
      "source": [
        "Para hacerte más sencillo el trabajo, te doy aquí algunas pistas:\n",
        "\n",
        "* Los nombres de los campos se pueden obtener de los tag \"th\" que hay dentro del tag \"table\" con atributo `class='a-bordered a-horizontal-stripes a-size-base a-span12 mojo-body-table mojo-table-annotated'`"
      ]
    },
    {
      "cell_type": "markdown",
      "metadata": {
        "id": "XsaqurKQCRKh"
      },
      "source": [
        "* Los valores se encuentran en los tags \"tr\" del tag \"tbody\". Tendrás que ver cómo sacarlos de ahí."
      ]
    },
    {
      "cell_type": "markdown",
      "metadata": {
        "id": "IWLK08GcCRKh"
      },
      "source": [
        "1. Inspecciona la página y ve desplegando hasta encontrar tbody y ahí ya investiga hasta dar con los tags últimos que tienen los datos.\n",
        "2. Repasa las soluciones a los ejercicios del workout de WebScraping para conseguir llegar al `DataFrame`"
      ]
    },
    {
      "cell_type": "code",
      "execution_count": null,
      "metadata": {
        "id": "uQLO8GigCRKh"
      },
      "outputs": [],
      "source": [
        "soup = BeautifulSoup(response.text, 'html.parser')\n",
        "table = soup.find(id ='table', class_='a-bordered a-horizontal-stripes a-size-base a-span12 mojo-body-table mojo-table-annotated')\n",
        "if table is None:\n",
        "        print(\"No se encontró la tabla. Verifica si la clase de la tabla ha cambiado.\")\n",
        "else:\n",
        "        # Extraer las cabeceras (th) para las columnas\n",
        "        headers = [header.text.strip() for header in table.find_all('th')]\n",
        "\n",
        "        # Extraer las filas de la tabla (tr) dentro de tbody\n",
        "        rows = table.find('tbody').find_all('tr')\n",
        "\n",
        "        # Lista para almacenar los datos de las filas\n",
        "        data_mojo = []\n",
        "\n",
        "        # Iterar sobre las filas y extraer los valores de cada celda (td)\n",
        "        for row in rows:\n",
        "            cells = row.find_all('td')\n",
        "            cell_data = [cell.text.strip() for cell in cells]\n",
        "            data_mojo.append(cell_data)"
      ]
    },
    {
      "cell_type": "markdown",
      "metadata": {
        "id": "Z0Jdol2rCRKh"
      },
      "source": [
        "### 2.2"
      ]
    },
    {
      "cell_type": "markdown",
      "metadata": {
        "id": "7GNoxYfBCRKh"
      },
      "source": [
        "Si no has podido hacer el ejercicio Extra anterior, lee los datos que hay en \"./data/mojo_data.xlsx\", cargándolos en un dataframe al que puedes poner por nombre \"df_mojo\". Usar \"Rank\" como índice y muestra el contenido y su información general."
      ]
    },
    {
      "cell_type": "code",
      "execution_count": 10,
      "metadata": {
        "colab": {
          "base_uri": "https://localhost:8080/",
          "height": 299
        },
        "id": "5OthakXeCRKh",
        "outputId": "07e58e4c-ab45-4cde-f9f0-da1e5612c479"
      },
      "outputs": [
        {
          "name": "stdout",
          "output_type": "stream",
          "text": [
            "Index(['Release', 'Genre', 'Budget', 'Running Time', 'Gross', 'Theaters',\n",
            "       'Total Gross', 'Release Date', 'Distributor', 'Estimated'],\n",
            "      dtype='object')\n"
          ]
        },
        {
          "data": {
            "text/html": [
              "<div>\n",
              "<style scoped>\n",
              "    .dataframe tbody tr th:only-of-type {\n",
              "        vertical-align: middle;\n",
              "    }\n",
              "\n",
              "    .dataframe tbody tr th {\n",
              "        vertical-align: top;\n",
              "    }\n",
              "\n",
              "    .dataframe thead th {\n",
              "        text-align: right;\n",
              "    }\n",
              "</style>\n",
              "<table border=\"1\" class=\"dataframe\">\n",
              "  <thead>\n",
              "    <tr style=\"text-align: right;\">\n",
              "      <th></th>\n",
              "      <th>title</th>\n",
              "      <th>Genre</th>\n",
              "      <th>Budget</th>\n",
              "      <th>Running Time</th>\n",
              "      <th>Gross</th>\n",
              "      <th>Theaters</th>\n",
              "      <th>Total Gross</th>\n",
              "      <th>Release Date</th>\n",
              "      <th>Distributor</th>\n",
              "      <th>Estimated</th>\n",
              "    </tr>\n",
              "    <tr>\n",
              "      <th>Rank</th>\n",
              "      <th></th>\n",
              "      <th></th>\n",
              "      <th></th>\n",
              "      <th></th>\n",
              "      <th></th>\n",
              "      <th></th>\n",
              "      <th></th>\n",
              "      <th></th>\n",
              "      <th></th>\n",
              "      <th></th>\n",
              "    </tr>\n",
              "  </thead>\n",
              "  <tbody>\n",
              "    <tr>\n",
              "      <th>1</th>\n",
              "      <td>Barbie</td>\n",
              "      <td>-</td>\n",
              "      <td>-</td>\n",
              "      <td>-</td>\n",
              "      <td>$33,554,745</td>\n",
              "      <td>424</td>\n",
              "      <td>$35,574,798</td>\n",
              "      <td>Jul 21</td>\n",
              "      <td>Warner Bros.</td>\n",
              "      <td>False</td>\n",
              "    </tr>\n",
              "    <tr>\n",
              "      <th>2</th>\n",
              "      <td>The Super Mario Bros. Movie</td>\n",
              "      <td>-</td>\n",
              "      <td>-</td>\n",
              "      <td>-</td>\n",
              "      <td>$25,885,996</td>\n",
              "      <td>395</td>\n",
              "      <td>$29,917,392</td>\n",
              "      <td>Apr 5</td>\n",
              "      <td>Universal Pictures International (UPI)</td>\n",
              "      <td>False</td>\n",
              "    </tr>\n",
              "    <tr>\n",
              "      <th>3</th>\n",
              "      <td>Avatar: The Way of Water</td>\n",
              "      <td>-</td>\n",
              "      <td>-</td>\n",
              "      <td>-</td>\n",
              "      <td>$25,885,456</td>\n",
              "      <td>416</td>\n",
              "      <td>$54,533,887</td>\n",
              "      <td>Dec 16</td>\n",
              "      <td>Walt Disney Studios Motion Pictures</td>\n",
              "      <td>False</td>\n",
              "    </tr>\n",
              "    <tr>\n",
              "      <th>4</th>\n",
              "      <td>Oppenheimer</td>\n",
              "      <td>-</td>\n",
              "      <td>-</td>\n",
              "      <td>-</td>\n",
              "      <td>$21,913,768</td>\n",
              "      <td>397</td>\n",
              "      <td>$23,066,528</td>\n",
              "      <td>Jul 21</td>\n",
              "      <td>Universal Pictures International (UPI)</td>\n",
              "      <td>False</td>\n",
              "    </tr>\n",
              "    <tr>\n",
              "      <th>5</th>\n",
              "      <td>Elemental</td>\n",
              "      <td>-</td>\n",
              "      <td>-</td>\n",
              "      <td>-</td>\n",
              "      <td>$14,241,183</td>\n",
              "      <td>325</td>\n",
              "      <td>$14,241,750</td>\n",
              "      <td>Jul 14</td>\n",
              "      <td>Walt Disney Pictures</td>\n",
              "      <td>False</td>\n",
              "    </tr>\n",
              "    <tr>\n",
              "      <th>...</th>\n",
              "      <td>...</td>\n",
              "      <td>...</td>\n",
              "      <td>...</td>\n",
              "      <td>...</td>\n",
              "      <td>...</td>\n",
              "      <td>...</td>\n",
              "      <td>...</td>\n",
              "      <td>...</td>\n",
              "      <td>...</td>\n",
              "      <td>...</td>\n",
              "    </tr>\n",
              "    <tr>\n",
              "      <th>196</th>\n",
              "      <td>Tin &amp; Tina</td>\n",
              "      <td>-</td>\n",
              "      <td>-</td>\n",
              "      <td>-</td>\n",
              "      <td>$112,392</td>\n",
              "      <td>148</td>\n",
              "      <td>$112,450</td>\n",
              "      <td>Mar 31</td>\n",
              "      <td>Filmax</td>\n",
              "      <td>False</td>\n",
              "    </tr>\n",
              "    <tr>\n",
              "      <th>197</th>\n",
              "      <td>The Portable Door</td>\n",
              "      <td>-</td>\n",
              "      <td>-</td>\n",
              "      <td>-</td>\n",
              "      <td>$111,284</td>\n",
              "      <td>230</td>\n",
              "      <td>$111,293</td>\n",
              "      <td>Jun 23</td>\n",
              "      <td>DeAPlaneta</td>\n",
              "      <td>False</td>\n",
              "    </tr>\n",
              "    <tr>\n",
              "      <th>198</th>\n",
              "      <td>Un cel de plom</td>\n",
              "      <td>-</td>\n",
              "      <td>-</td>\n",
              "      <td>-</td>\n",
              "      <td>$110,656</td>\n",
              "      <td>57</td>\n",
              "      <td>$110,656</td>\n",
              "      <td>Apr 28</td>\n",
              "      <td>Filmax</td>\n",
              "      <td>False</td>\n",
              "    </tr>\n",
              "    <tr>\n",
              "      <th>199</th>\n",
              "      <td>Fallen Leaves</td>\n",
              "      <td>-</td>\n",
              "      <td>-</td>\n",
              "      <td>-</td>\n",
              "      <td>$109,607</td>\n",
              "      <td>115</td>\n",
              "      <td>$781,961</td>\n",
              "      <td>Dec 29</td>\n",
              "      <td>Avalon</td>\n",
              "      <td>False</td>\n",
              "    </tr>\n",
              "    <tr>\n",
              "      <th>200</th>\n",
              "      <td>In the Company of Women</td>\n",
              "      <td>-</td>\n",
              "      <td>-</td>\n",
              "      <td>-</td>\n",
              "      <td>$107,681</td>\n",
              "      <td>56</td>\n",
              "      <td>$108,979</td>\n",
              "      <td>May 5</td>\n",
              "      <td>Filmax</td>\n",
              "      <td>False</td>\n",
              "    </tr>\n",
              "  </tbody>\n",
              "</table>\n",
              "<p>200 rows × 10 columns</p>\n",
              "</div>"
            ],
            "text/plain": [
              "                            title Genre Budget Running Time        Gross  \\\n",
              "Rank                                                                       \n",
              "1                          Barbie     -      -            -  $33,554,745   \n",
              "2     The Super Mario Bros. Movie     -      -            -  $25,885,996   \n",
              "3        Avatar: The Way of Water     -      -            -  $25,885,456   \n",
              "4                     Oppenheimer     -      -            -  $21,913,768   \n",
              "5                       Elemental     -      -            -  $14,241,183   \n",
              "...                           ...   ...    ...          ...          ...   \n",
              "196                    Tin & Tina     -      -            -     $112,392   \n",
              "197             The Portable Door     -      -            -     $111,284   \n",
              "198                Un cel de plom     -      -            -     $110,656   \n",
              "199                 Fallen Leaves     -      -            -     $109,607   \n",
              "200       In the Company of Women     -      -            -     $107,681   \n",
              "\n",
              "      Theaters  Total Gross Release Date  \\\n",
              "Rank                                       \n",
              "1          424  $35,574,798       Jul 21   \n",
              "2          395  $29,917,392        Apr 5   \n",
              "3          416  $54,533,887       Dec 16   \n",
              "4          397  $23,066,528       Jul 21   \n",
              "5          325  $14,241,750       Jul 14   \n",
              "...        ...          ...          ...   \n",
              "196        148     $112,450       Mar 31   \n",
              "197        230     $111,293       Jun 23   \n",
              "198         57     $110,656       Apr 28   \n",
              "199        115     $781,961       Dec 29   \n",
              "200         56     $108,979        May 5   \n",
              "\n",
              "                                 Distributor  Estimated  \n",
              "Rank                                                     \n",
              "1                               Warner Bros.      False  \n",
              "2     Universal Pictures International (UPI)      False  \n",
              "3        Walt Disney Studios Motion Pictures      False  \n",
              "4     Universal Pictures International (UPI)      False  \n",
              "5                       Walt Disney Pictures      False  \n",
              "...                                      ...        ...  \n",
              "196                                   Filmax      False  \n",
              "197                               DeAPlaneta      False  \n",
              "198                                   Filmax      False  \n",
              "199                                   Avalon      False  \n",
              "200                                   Filmax      False  \n",
              "\n",
              "[200 rows x 10 columns]"
            ]
          },
          "execution_count": 10,
          "metadata": {},
          "output_type": "execute_result"
        }
      ],
      "source": [
        "df_mojo = pd.read_excel(\"./data/mojo_data.xlsx\", index_col = \"Rank\")\n",
        "print(df_mojo.columns)\n",
        "df_mojo\n",
        "df_mojo = df_mojo.rename(columns={\"Release\": \"title\"})\n",
        "df_mojo"
      ]
    },
    {
      "cell_type": "markdown",
      "metadata": {
        "id": "iran062kCRKh"
      },
      "source": [
        "### 2.3\n",
        "\n",
        "Hora de volver a nuestro `DataFrame` de peliculas obtenido de la API. Pégale las recuadaciones de df_mojo, de forma que mantegamos las 40 peliculas populares, no importa cuantas de df_mojo queden. ¿Qué método vas a usar?¿Qué tipo de join quieres hacer?¿Qué campos son los índices?"
      ]
    },
    {
      "cell_type": "code",
      "execution_count": 5,
      "metadata": {
        "id": "ND73MxQ-CRKi"
      },
      "outputs": [
        {
          "ename": "NameError",
          "evalue": "name 'df_movies' is not defined",
          "output_type": "error",
          "traceback": [
            "\u001b[0;31m---------------------------------------------------------------------------\u001b[0m",
            "\u001b[0;31mNameError\u001b[0m                                 Traceback (most recent call last)",
            "Cell \u001b[0;32mIn[5], line 1\u001b[0m\n\u001b[0;32m----> 1\u001b[0m df_movies \u001b[38;5;241m=\u001b[39m \u001b[43mdf_movies\u001b[49m\u001b[38;5;241m.\u001b[39mreset_index()  \u001b[38;5;66;03m# Recupero id como col\u001b[39;00m\n\u001b[1;32m      2\u001b[0m df_mojo \u001b[38;5;241m=\u001b[39m df_mojo\u001b[38;5;241m.\u001b[39mreset_index() \u001b[38;5;66;03m#recupero Rank como col\u001b[39;00m\n",
            "\u001b[0;31mNameError\u001b[0m: name 'df_movies' is not defined"
          ]
        }
      ],
      "source": [
        "df_movies = df_movies.reset_index()  # Recupero id como col\n",
        "df_mojo = df_mojo.reset_index() #recupero Rank como col"
      ]
    },
    {
      "cell_type": "code",
      "execution_count": null,
      "metadata": {},
      "outputs": [],
      "source": [
        "df_merged = pd.merge(df_movies, df_mojo, on=\"title\", how=\"left\")\n",
        "df_merged = df_merged.set_index(\"id\")"
      ]
    },
    {
      "cell_type": "markdown",
      "metadata": {
        "id": "ENvfOr-QCRKi"
      },
      "source": [
        "### 2.4\n",
        "Muestra los 10 primeros registros del resultado del cruce y su información general\n"
      ]
    },
    {
      "cell_type": "code",
      "execution_count": null,
      "metadata": {
        "id": "fodcP3UVCRKi"
      },
      "outputs": [],
      "source": [
        "print(df_merged.head(10))\n",
        "print(df_merged.info())"
      ]
    },
    {
      "cell_type": "markdown",
      "metadata": {
        "id": "UfPx9X4HCRKi"
      },
      "source": [
        "### 2.5\n",
        "\n",
        "Muestra las películas españolas para las que sí hay información de ingresos. Cuidado: Tiene \"truco\"\n"
      ]
    },
    {
      "cell_type": "code",
      "execution_count": null,
      "metadata": {
        "id": "NQ0gZISxCRKi"
      },
      "outputs": [],
      "source": [
        "df_spain_revenue= df_merged[df_merged['with_origin_country'] == 'ES']\n",
        "df_spain_revenue = df_spain_revenue[df_spain_revenue['Total Gross'].notnull()]\n",
        "df_spain_revenue[[\"title\", 'Total Gross']].head()"
      ]
    },
    {
      "cell_type": "markdown",
      "metadata": {
        "id": "KH_VzHIqCRKi"
      },
      "source": [
        "### 2.6\n",
        "Para terminar, vuelve a cruzar las tablas pero ahora con un inner join de forma que sólo nos quedemos con las peliculas que tienen recaudación en box office. Antes marca de alguna manera el indice de popularidad en df_base_movies y después de hacer el join comprueba \"visualmente\" cuanto de correlados están los rakings de popularidad e ingresos."
      ]
    },
    {
      "cell_type": "code",
      "execution_count": null,
      "metadata": {
        "id": "9VtuDRPdCRKi"
      },
      "outputs": [],
      "source": [
        "df_movies['popularity_rank'] = df_movies['vote_average'].rank(ascending=False)\n",
        "df_merged = pd.merge(df_movies, df_mojo, on=\"title\", how=\"inner\")\n",
        "df_joined['Revenue_rank'] = df_joined[\"Total Gross\"].rank(ascending=False)\n",
        "print(df_joined[['title', 'popularity_rank', 'revenue_rank', 'vote_average']].head())"
      ]
    }
  ],
  "metadata": {
    "colab": {
      "include_colab_link": true,
      "provenance": []
    },
    "kernelspec": {
      "display_name": "Python 3",
      "language": "python",
      "name": "python3"
    },
    "language_info": {
      "codemirror_mode": {
        "name": "ipython",
        "version": 3
      },
      "file_extension": ".py",
      "mimetype": "text/x-python",
      "name": "python",
      "nbconvert_exporter": "python",
      "pygments_lexer": "ipython3",
      "version": "3.10.11"
    }
  },
  "nbformat": 4,
  "nbformat_minor": 0
}
